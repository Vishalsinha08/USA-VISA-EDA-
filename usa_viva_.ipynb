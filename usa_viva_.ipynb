{
  "nbformat": 4,
  "nbformat_minor": 0,
  "metadata": {
    "colab": {
      "provenance": []
    },
    "kernelspec": {
      "name": "python3",
      "display_name": "Python 3"
    },
    "language_info": {
      "name": "python"
    }
  },
  "cells": [
    {
      "cell_type": "code",
      "execution_count": null,
      "metadata": {
        "id": "lsiu9z-YtTY3"
      },
      "outputs": [],
      "source": [
        "import pandas as pd\n",
        "import numpy as np\n",
        "import matplotlib.pyplot as plt\n",
        "import seaborn as sns\n",
        "%matplotlib inline\n",
        "\n",
        "import warnings\n",
        "warnings.filterwarnings('ignore')"
      ]
    },
    {
      "cell_type": "markdown",
      "source": [],
      "metadata": {
        "id": "erK8I5ipMqb9"
      }
    },
    {
      "cell_type": "code",
      "source": [
        "df.head()"
      ],
      "metadata": {
        "colab": {
          "base_uri": "https://localhost:8080/"
        },
        "id": "wqNEPyUVtn0E",
        "outputId": "1fc70f84-1c5b-4b1f-fc4c-ffe9ae7f8ae0"
      },
      "execution_count": null,
      "outputs": [
        {
          "output_type": "execute_result",
          "data": {
            "text/plain": [
              "add_these_pw_job_title_9089    False\n",
              "agent_city                     False\n",
              "agent_firm_name                False\n",
              "agent_state                    False\n",
              "application_type               False\n",
              "dtype: bool"
            ]
          },
          "metadata": {},
          "execution_count": 26
        }
      ]
    },
    {
      "cell_type": "markdown",
      "source": [],
      "metadata": {
        "id": "a0uV1YGst65z"
      }
    },
    {
      "cell_type": "code",
      "source": [
        "df = pd.read_csv(\"us_perm_visas.csv\")"
      ],
      "metadata": {
        "id": "geK0J66WtmIO"
      },
      "execution_count": null,
      "outputs": []
    },
    {
      "cell_type": "code",
      "source": [
        "df\n"
      ],
      "metadata": {
        "id": "6qxfea-JtpTa",
        "colab": {
          "base_uri": "https://localhost:8080/",
          "height": 773
        },
        "outputId": "3e696065-46ce-49b6-c203-2c96bbca0cdf"
      },
      "execution_count": null,
      "outputs": [
        {
          "output_type": "execute_result",
          "data": {
            "text/plain": [
              "       add_these_pw_job_title_9089    agent_city  \\\n",
              "0                              NaN           NaN   \n",
              "1                              NaN           NaN   \n",
              "2                              NaN           NaN   \n",
              "3                              NaN           NaN   \n",
              "4                              NaN           NaN   \n",
              "...                            ...           ...   \n",
              "207046                         NaN        Boston   \n",
              "207047                         NaN          Troy   \n",
              "207048                         NaN      Brooklyn   \n",
              "207049                         NaN       Phoenix   \n",
              "207050                         NaN  Owings Mills   \n",
              "\n",
              "                                 agent_firm_name    agent_state  \\\n",
              "0                                            NaN            NaN   \n",
              "1                                            NaN            NaN   \n",
              "2                                            NaN            NaN   \n",
              "3                                            NaN            NaN   \n",
              "4                                            NaN            NaN   \n",
              "...                                          ...            ...   \n",
              "207046    Fragomen, Del Rey, Bernsen & Loewy LLP  MASSACHUSETTS   \n",
              "207047  FRAGOMEN, DEL REY, BERNSEN & LOEWY, PLLC       MICHIGAN   \n",
              "207048       Law Offices of Laura Leibfreid PLLC       NEW YORK   \n",
              "207049   Fragomen, Del Rey, Bernsen & Loewy, LLP        ARIZONA   \n",
              "207050                           Murthy Law Firm       MARYLAND   \n",
              "\n",
              "       application_type        case_no    case_number case_received_date  \\\n",
              "0                  PERM  A-07323-97014            NaN                NaN   \n",
              "1                  PERM  A-07332-99439            NaN                NaN   \n",
              "2                  PERM  A-07333-99643            NaN                NaN   \n",
              "3                  PERM  A-07339-01930            NaN                NaN   \n",
              "4                  PERM  A-07345-03565            NaN                NaN   \n",
              "...                 ...            ...            ...                ...   \n",
              "207046              NaN            NaN  A-15037-48774         2015-03-24   \n",
              "207047              NaN            NaN  A-15037-48775         2015-02-06   \n",
              "207048              NaN            NaN  A-15033-47571         2015-02-12   \n",
              "207049              NaN            NaN  A-15035-47975         2015-02-04   \n",
              "207050              NaN            NaN  A-15035-47976         2015-03-16   \n",
              "\n",
              "       case_status class_of_admission  ... ri_pvt_employment_firm_to  \\\n",
              "0        Certified                J-1  ...                       NaN   \n",
              "1           Denied                B-2  ...                       NaN   \n",
              "2        Certified               H-1B  ...                       NaN   \n",
              "3        Certified                B-2  ...                       NaN   \n",
              "4        Certified                L-1  ...                       NaN   \n",
              "...            ...                ...  ...                       ...   \n",
              "207046   Certified               H-1B  ...                       NaN   \n",
              "207047   Certified                L-1  ...                       NaN   \n",
              "207048   Certified               H-1B  ...                       NaN   \n",
              "207049   Certified               H-1B  ...                       NaN   \n",
              "207050   Certified               H-1B  ...                       NaN   \n",
              "\n",
              "       ri_us_workers_considered schd_a_sheepherder     us_economic_sector  \\\n",
              "0                           NaN                NaN                     IT   \n",
              "1                           NaN                NaN  Other Economic Sector   \n",
              "2                           NaN                NaN              Aerospace   \n",
              "3                           NaN                NaN  Other Economic Sector   \n",
              "4                           NaN                NaN           Advanced Mfg   \n",
              "...                         ...                ...                    ...   \n",
              "207046                      NaN                  N                    NaN   \n",
              "207047                      NaN                  N                    NaN   \n",
              "207048                      NaN                  N                    NaN   \n",
              "207049                        A                  N                    NaN   \n",
              "207050                      NaN                NaN                    NaN   \n",
              "\n",
              "       wage_offer_from_9089 wage_offer_to_9089 wage_offer_unit_of_pay_9089  \\\n",
              "0                   75629.0                NaN                          yr   \n",
              "1                   37024.0                NaN                          yr   \n",
              "2                   47923.0                NaN                          yr   \n",
              "3                     10.97                NaN                          hr   \n",
              "4                  100000.0                NaN                          yr   \n",
              "...                     ...                ...                         ...   \n",
              "207046            97,198.00                NaN                        Year   \n",
              "207047           100,797.00                NaN                        Year   \n",
              "207048           127,754.00                NaN                        Year   \n",
              "207049            91,505.00         102,000.00                        Year   \n",
              "207050                  NaN                NaN                         NaN   \n",
              "\n",
              "       wage_offered_from_9089 wage_offered_to_9089  \\\n",
              "0                         NaN                  NaN   \n",
              "1                         NaN                  NaN   \n",
              "2                         NaN                  NaN   \n",
              "3                         NaN                  NaN   \n",
              "4                         NaN                  NaN   \n",
              "...                       ...                  ...   \n",
              "207046                    NaN                  NaN   \n",
              "207047                    NaN                  NaN   \n",
              "207048                    NaN                  NaN   \n",
              "207049                    NaN                  NaN   \n",
              "207050                    NaN                  NaN   \n",
              "\n",
              "        wage_offered_unit_of_pay_9089  \n",
              "0                                 NaN  \n",
              "1                                 NaN  \n",
              "2                                 NaN  \n",
              "3                                 NaN  \n",
              "4                                 NaN  \n",
              "...                               ...  \n",
              "207046                            NaN  \n",
              "207047                            NaN  \n",
              "207048                            NaN  \n",
              "207049                            NaN  \n",
              "207050                            NaN  \n",
              "\n",
              "[207051 rows x 154 columns]"
            ],
            "text/html": [
              "\n",
              "  <div id=\"df-7c9aad92-0945-4aa2-8f3d-374ea450e077\" class=\"colab-df-container\">\n",
              "    <div>\n",
              "<style scoped>\n",
              "    .dataframe tbody tr th:only-of-type {\n",
              "        vertical-align: middle;\n",
              "    }\n",
              "\n",
              "    .dataframe tbody tr th {\n",
              "        vertical-align: top;\n",
              "    }\n",
              "\n",
              "    .dataframe thead th {\n",
              "        text-align: right;\n",
              "    }\n",
              "</style>\n",
              "<table border=\"1\" class=\"dataframe\">\n",
              "  <thead>\n",
              "    <tr style=\"text-align: right;\">\n",
              "      <th></th>\n",
              "      <th>add_these_pw_job_title_9089</th>\n",
              "      <th>agent_city</th>\n",
              "      <th>agent_firm_name</th>\n",
              "      <th>agent_state</th>\n",
              "      <th>application_type</th>\n",
              "      <th>case_no</th>\n",
              "      <th>case_number</th>\n",
              "      <th>case_received_date</th>\n",
              "      <th>case_status</th>\n",
              "      <th>class_of_admission</th>\n",
              "      <th>...</th>\n",
              "      <th>ri_pvt_employment_firm_to</th>\n",
              "      <th>ri_us_workers_considered</th>\n",
              "      <th>schd_a_sheepherder</th>\n",
              "      <th>us_economic_sector</th>\n",
              "      <th>wage_offer_from_9089</th>\n",
              "      <th>wage_offer_to_9089</th>\n",
              "      <th>wage_offer_unit_of_pay_9089</th>\n",
              "      <th>wage_offered_from_9089</th>\n",
              "      <th>wage_offered_to_9089</th>\n",
              "      <th>wage_offered_unit_of_pay_9089</th>\n",
              "    </tr>\n",
              "  </thead>\n",
              "  <tbody>\n",
              "    <tr>\n",
              "      <th>0</th>\n",
              "      <td>NaN</td>\n",
              "      <td>NaN</td>\n",
              "      <td>NaN</td>\n",
              "      <td>NaN</td>\n",
              "      <td>PERM</td>\n",
              "      <td>A-07323-97014</td>\n",
              "      <td>NaN</td>\n",
              "      <td>NaN</td>\n",
              "      <td>Certified</td>\n",
              "      <td>J-1</td>\n",
              "      <td>...</td>\n",
              "      <td>NaN</td>\n",
              "      <td>NaN</td>\n",
              "      <td>NaN</td>\n",
              "      <td>IT</td>\n",
              "      <td>75629.0</td>\n",
              "      <td>NaN</td>\n",
              "      <td>yr</td>\n",
              "      <td>NaN</td>\n",
              "      <td>NaN</td>\n",
              "      <td>NaN</td>\n",
              "    </tr>\n",
              "    <tr>\n",
              "      <th>1</th>\n",
              "      <td>NaN</td>\n",
              "      <td>NaN</td>\n",
              "      <td>NaN</td>\n",
              "      <td>NaN</td>\n",
              "      <td>PERM</td>\n",
              "      <td>A-07332-99439</td>\n",
              "      <td>NaN</td>\n",
              "      <td>NaN</td>\n",
              "      <td>Denied</td>\n",
              "      <td>B-2</td>\n",
              "      <td>...</td>\n",
              "      <td>NaN</td>\n",
              "      <td>NaN</td>\n",
              "      <td>NaN</td>\n",
              "      <td>Other Economic Sector</td>\n",
              "      <td>37024.0</td>\n",
              "      <td>NaN</td>\n",
              "      <td>yr</td>\n",
              "      <td>NaN</td>\n",
              "      <td>NaN</td>\n",
              "      <td>NaN</td>\n",
              "    </tr>\n",
              "    <tr>\n",
              "      <th>2</th>\n",
              "      <td>NaN</td>\n",
              "      <td>NaN</td>\n",
              "      <td>NaN</td>\n",
              "      <td>NaN</td>\n",
              "      <td>PERM</td>\n",
              "      <td>A-07333-99643</td>\n",
              "      <td>NaN</td>\n",
              "      <td>NaN</td>\n",
              "      <td>Certified</td>\n",
              "      <td>H-1B</td>\n",
              "      <td>...</td>\n",
              "      <td>NaN</td>\n",
              "      <td>NaN</td>\n",
              "      <td>NaN</td>\n",
              "      <td>Aerospace</td>\n",
              "      <td>47923.0</td>\n",
              "      <td>NaN</td>\n",
              "      <td>yr</td>\n",
              "      <td>NaN</td>\n",
              "      <td>NaN</td>\n",
              "      <td>NaN</td>\n",
              "    </tr>\n",
              "    <tr>\n",
              "      <th>3</th>\n",
              "      <td>NaN</td>\n",
              "      <td>NaN</td>\n",
              "      <td>NaN</td>\n",
              "      <td>NaN</td>\n",
              "      <td>PERM</td>\n",
              "      <td>A-07339-01930</td>\n",
              "      <td>NaN</td>\n",
              "      <td>NaN</td>\n",
              "      <td>Certified</td>\n",
              "      <td>B-2</td>\n",
              "      <td>...</td>\n",
              "      <td>NaN</td>\n",
              "      <td>NaN</td>\n",
              "      <td>NaN</td>\n",
              "      <td>Other Economic Sector</td>\n",
              "      <td>10.97</td>\n",
              "      <td>NaN</td>\n",
              "      <td>hr</td>\n",
              "      <td>NaN</td>\n",
              "      <td>NaN</td>\n",
              "      <td>NaN</td>\n",
              "    </tr>\n",
              "    <tr>\n",
              "      <th>4</th>\n",
              "      <td>NaN</td>\n",
              "      <td>NaN</td>\n",
              "      <td>NaN</td>\n",
              "      <td>NaN</td>\n",
              "      <td>PERM</td>\n",
              "      <td>A-07345-03565</td>\n",
              "      <td>NaN</td>\n",
              "      <td>NaN</td>\n",
              "      <td>Certified</td>\n",
              "      <td>L-1</td>\n",
              "      <td>...</td>\n",
              "      <td>NaN</td>\n",
              "      <td>NaN</td>\n",
              "      <td>NaN</td>\n",
              "      <td>Advanced Mfg</td>\n",
              "      <td>100000.0</td>\n",
              "      <td>NaN</td>\n",
              "      <td>yr</td>\n",
              "      <td>NaN</td>\n",
              "      <td>NaN</td>\n",
              "      <td>NaN</td>\n",
              "    </tr>\n",
              "    <tr>\n",
              "      <th>...</th>\n",
              "      <td>...</td>\n",
              "      <td>...</td>\n",
              "      <td>...</td>\n",
              "      <td>...</td>\n",
              "      <td>...</td>\n",
              "      <td>...</td>\n",
              "      <td>...</td>\n",
              "      <td>...</td>\n",
              "      <td>...</td>\n",
              "      <td>...</td>\n",
              "      <td>...</td>\n",
              "      <td>...</td>\n",
              "      <td>...</td>\n",
              "      <td>...</td>\n",
              "      <td>...</td>\n",
              "      <td>...</td>\n",
              "      <td>...</td>\n",
              "      <td>...</td>\n",
              "      <td>...</td>\n",
              "      <td>...</td>\n",
              "      <td>...</td>\n",
              "    </tr>\n",
              "    <tr>\n",
              "      <th>207046</th>\n",
              "      <td>NaN</td>\n",
              "      <td>Boston</td>\n",
              "      <td>Fragomen, Del Rey, Bernsen &amp; Loewy LLP</td>\n",
              "      <td>MASSACHUSETTS</td>\n",
              "      <td>NaN</td>\n",
              "      <td>NaN</td>\n",
              "      <td>A-15037-48774</td>\n",
              "      <td>2015-03-24</td>\n",
              "      <td>Certified</td>\n",
              "      <td>H-1B</td>\n",
              "      <td>...</td>\n",
              "      <td>NaN</td>\n",
              "      <td>NaN</td>\n",
              "      <td>N</td>\n",
              "      <td>NaN</td>\n",
              "      <td>97,198.00</td>\n",
              "      <td>NaN</td>\n",
              "      <td>Year</td>\n",
              "      <td>NaN</td>\n",
              "      <td>NaN</td>\n",
              "      <td>NaN</td>\n",
              "    </tr>\n",
              "    <tr>\n",
              "      <th>207047</th>\n",
              "      <td>NaN</td>\n",
              "      <td>Troy</td>\n",
              "      <td>FRAGOMEN, DEL REY, BERNSEN &amp; LOEWY, PLLC</td>\n",
              "      <td>MICHIGAN</td>\n",
              "      <td>NaN</td>\n",
              "      <td>NaN</td>\n",
              "      <td>A-15037-48775</td>\n",
              "      <td>2015-02-06</td>\n",
              "      <td>Certified</td>\n",
              "      <td>L-1</td>\n",
              "      <td>...</td>\n",
              "      <td>NaN</td>\n",
              "      <td>NaN</td>\n",
              "      <td>N</td>\n",
              "      <td>NaN</td>\n",
              "      <td>100,797.00</td>\n",
              "      <td>NaN</td>\n",
              "      <td>Year</td>\n",
              "      <td>NaN</td>\n",
              "      <td>NaN</td>\n",
              "      <td>NaN</td>\n",
              "    </tr>\n",
              "    <tr>\n",
              "      <th>207048</th>\n",
              "      <td>NaN</td>\n",
              "      <td>Brooklyn</td>\n",
              "      <td>Law Offices of Laura Leibfreid PLLC</td>\n",
              "      <td>NEW YORK</td>\n",
              "      <td>NaN</td>\n",
              "      <td>NaN</td>\n",
              "      <td>A-15033-47571</td>\n",
              "      <td>2015-02-12</td>\n",
              "      <td>Certified</td>\n",
              "      <td>H-1B</td>\n",
              "      <td>...</td>\n",
              "      <td>NaN</td>\n",
              "      <td>NaN</td>\n",
              "      <td>N</td>\n",
              "      <td>NaN</td>\n",
              "      <td>127,754.00</td>\n",
              "      <td>NaN</td>\n",
              "      <td>Year</td>\n",
              "      <td>NaN</td>\n",
              "      <td>NaN</td>\n",
              "      <td>NaN</td>\n",
              "    </tr>\n",
              "    <tr>\n",
              "      <th>207049</th>\n",
              "      <td>NaN</td>\n",
              "      <td>Phoenix</td>\n",
              "      <td>Fragomen, Del Rey, Bernsen &amp; Loewy, LLP</td>\n",
              "      <td>ARIZONA</td>\n",
              "      <td>NaN</td>\n",
              "      <td>NaN</td>\n",
              "      <td>A-15035-47975</td>\n",
              "      <td>2015-02-04</td>\n",
              "      <td>Certified</td>\n",
              "      <td>H-1B</td>\n",
              "      <td>...</td>\n",
              "      <td>NaN</td>\n",
              "      <td>A</td>\n",
              "      <td>N</td>\n",
              "      <td>NaN</td>\n",
              "      <td>91,505.00</td>\n",
              "      <td>102,000.00</td>\n",
              "      <td>Year</td>\n",
              "      <td>NaN</td>\n",
              "      <td>NaN</td>\n",
              "      <td>NaN</td>\n",
              "    </tr>\n",
              "    <tr>\n",
              "      <th>207050</th>\n",
              "      <td>NaN</td>\n",
              "      <td>Owings Mills</td>\n",
              "      <td>Murthy Law Firm</td>\n",
              "      <td>MARYLAND</td>\n",
              "      <td>NaN</td>\n",
              "      <td>NaN</td>\n",
              "      <td>A-15035-47976</td>\n",
              "      <td>2015-03-16</td>\n",
              "      <td>Certified</td>\n",
              "      <td>H-1B</td>\n",
              "      <td>...</td>\n",
              "      <td>NaN</td>\n",
              "      <td>NaN</td>\n",
              "      <td>NaN</td>\n",
              "      <td>NaN</td>\n",
              "      <td>NaN</td>\n",
              "      <td>NaN</td>\n",
              "      <td>NaN</td>\n",
              "      <td>NaN</td>\n",
              "      <td>NaN</td>\n",
              "      <td>NaN</td>\n",
              "    </tr>\n",
              "  </tbody>\n",
              "</table>\n",
              "<p>207051 rows × 154 columns</p>\n",
              "</div>\n",
              "    <div class=\"colab-df-buttons\">\n",
              "\n",
              "  <div class=\"colab-df-container\">\n",
              "    <button class=\"colab-df-convert\" onclick=\"convertToInteractive('df-7c9aad92-0945-4aa2-8f3d-374ea450e077')\"\n",
              "            title=\"Convert this dataframe to an interactive table.\"\n",
              "            style=\"display:none;\">\n",
              "\n",
              "  <svg xmlns=\"http://www.w3.org/2000/svg\" height=\"24px\" viewBox=\"0 -960 960 960\">\n",
              "    <path d=\"M120-120v-720h720v720H120Zm60-500h600v-160H180v160Zm220 220h160v-160H400v160Zm0 220h160v-160H400v160ZM180-400h160v-160H180v160Zm440 0h160v-160H620v160ZM180-180h160v-160H180v160Zm440 0h160v-160H620v160Z\"/>\n",
              "  </svg>\n",
              "    </button>\n",
              "\n",
              "  <style>\n",
              "    .colab-df-container {\n",
              "      display:flex;\n",
              "      gap: 12px;\n",
              "    }\n",
              "\n",
              "    .colab-df-convert {\n",
              "      background-color: #E8F0FE;\n",
              "      border: none;\n",
              "      border-radius: 50%;\n",
              "      cursor: pointer;\n",
              "      display: none;\n",
              "      fill: #1967D2;\n",
              "      height: 32px;\n",
              "      padding: 0 0 0 0;\n",
              "      width: 32px;\n",
              "    }\n",
              "\n",
              "    .colab-df-convert:hover {\n",
              "      background-color: #E2EBFA;\n",
              "      box-shadow: 0px 1px 2px rgba(60, 64, 67, 0.3), 0px 1px 3px 1px rgba(60, 64, 67, 0.15);\n",
              "      fill: #174EA6;\n",
              "    }\n",
              "\n",
              "    .colab-df-buttons div {\n",
              "      margin-bottom: 4px;\n",
              "    }\n",
              "\n",
              "    [theme=dark] .colab-df-convert {\n",
              "      background-color: #3B4455;\n",
              "      fill: #D2E3FC;\n",
              "    }\n",
              "\n",
              "    [theme=dark] .colab-df-convert:hover {\n",
              "      background-color: #434B5C;\n",
              "      box-shadow: 0px 1px 3px 1px rgba(0, 0, 0, 0.15);\n",
              "      filter: drop-shadow(0px 1px 2px rgba(0, 0, 0, 0.3));\n",
              "      fill: #FFFFFF;\n",
              "    }\n",
              "  </style>\n",
              "\n",
              "    <script>\n",
              "      const buttonEl =\n",
              "        document.querySelector('#df-7c9aad92-0945-4aa2-8f3d-374ea450e077 button.colab-df-convert');\n",
              "      buttonEl.style.display =\n",
              "        google.colab.kernel.accessAllowed ? 'block' : 'none';\n",
              "\n",
              "      async function convertToInteractive(key) {\n",
              "        const element = document.querySelector('#df-7c9aad92-0945-4aa2-8f3d-374ea450e077');\n",
              "        const dataTable =\n",
              "          await google.colab.kernel.invokeFunction('convertToInteractive',\n",
              "                                                    [key], {});\n",
              "        if (!dataTable) return;\n",
              "\n",
              "        const docLinkHtml = 'Like what you see? Visit the ' +\n",
              "          '<a target=\"_blank\" href=https://colab.research.google.com/notebooks/data_table.ipynb>data table notebook</a>'\n",
              "          + ' to learn more about interactive tables.';\n",
              "        element.innerHTML = '';\n",
              "        dataTable['output_type'] = 'display_data';\n",
              "        await google.colab.output.renderOutput(dataTable, element);\n",
              "        const docLink = document.createElement('div');\n",
              "        docLink.innerHTML = docLinkHtml;\n",
              "        element.appendChild(docLink);\n",
              "      }\n",
              "    </script>\n",
              "  </div>\n",
              "\n",
              "\n",
              "<div id=\"df-d00cea91-0f0d-4017-abe5-bc2d14ba8f82\">\n",
              "  <button class=\"colab-df-quickchart\" onclick=\"quickchart('df-d00cea91-0f0d-4017-abe5-bc2d14ba8f82')\"\n",
              "            title=\"Suggest charts\"\n",
              "            style=\"display:none;\">\n",
              "\n",
              "<svg xmlns=\"http://www.w3.org/2000/svg\" height=\"24px\"viewBox=\"0 0 24 24\"\n",
              "     width=\"24px\">\n",
              "    <g>\n",
              "        <path d=\"M19 3H5c-1.1 0-2 .9-2 2v14c0 1.1.9 2 2 2h14c1.1 0 2-.9 2-2V5c0-1.1-.9-2-2-2zM9 17H7v-7h2v7zm4 0h-2V7h2v10zm4 0h-2v-4h2v4z\"/>\n",
              "    </g>\n",
              "</svg>\n",
              "  </button>\n",
              "\n",
              "<style>\n",
              "  .colab-df-quickchart {\n",
              "      --bg-color: #E8F0FE;\n",
              "      --fill-color: #1967D2;\n",
              "      --hover-bg-color: #E2EBFA;\n",
              "      --hover-fill-color: #174EA6;\n",
              "      --disabled-fill-color: #AAA;\n",
              "      --disabled-bg-color: #DDD;\n",
              "  }\n",
              "\n",
              "  [theme=dark] .colab-df-quickchart {\n",
              "      --bg-color: #3B4455;\n",
              "      --fill-color: #D2E3FC;\n",
              "      --hover-bg-color: #434B5C;\n",
              "      --hover-fill-color: #FFFFFF;\n",
              "      --disabled-bg-color: #3B4455;\n",
              "      --disabled-fill-color: #666;\n",
              "  }\n",
              "\n",
              "  .colab-df-quickchart {\n",
              "    background-color: var(--bg-color);\n",
              "    border: none;\n",
              "    border-radius: 50%;\n",
              "    cursor: pointer;\n",
              "    display: none;\n",
              "    fill: var(--fill-color);\n",
              "    height: 32px;\n",
              "    padding: 0;\n",
              "    width: 32px;\n",
              "  }\n",
              "\n",
              "  .colab-df-quickchart:hover {\n",
              "    background-color: var(--hover-bg-color);\n",
              "    box-shadow: 0 1px 2px rgba(60, 64, 67, 0.3), 0 1px 3px 1px rgba(60, 64, 67, 0.15);\n",
              "    fill: var(--button-hover-fill-color);\n",
              "  }\n",
              "\n",
              "  .colab-df-quickchart-complete:disabled,\n",
              "  .colab-df-quickchart-complete:disabled:hover {\n",
              "    background-color: var(--disabled-bg-color);\n",
              "    fill: var(--disabled-fill-color);\n",
              "    box-shadow: none;\n",
              "  }\n",
              "\n",
              "  .colab-df-spinner {\n",
              "    border: 2px solid var(--fill-color);\n",
              "    border-color: transparent;\n",
              "    border-bottom-color: var(--fill-color);\n",
              "    animation:\n",
              "      spin 1s steps(1) infinite;\n",
              "  }\n",
              "\n",
              "  @keyframes spin {\n",
              "    0% {\n",
              "      border-color: transparent;\n",
              "      border-bottom-color: var(--fill-color);\n",
              "      border-left-color: var(--fill-color);\n",
              "    }\n",
              "    20% {\n",
              "      border-color: transparent;\n",
              "      border-left-color: var(--fill-color);\n",
              "      border-top-color: var(--fill-color);\n",
              "    }\n",
              "    30% {\n",
              "      border-color: transparent;\n",
              "      border-left-color: var(--fill-color);\n",
              "      border-top-color: var(--fill-color);\n",
              "      border-right-color: var(--fill-color);\n",
              "    }\n",
              "    40% {\n",
              "      border-color: transparent;\n",
              "      border-right-color: var(--fill-color);\n",
              "      border-top-color: var(--fill-color);\n",
              "    }\n",
              "    60% {\n",
              "      border-color: transparent;\n",
              "      border-right-color: var(--fill-color);\n",
              "    }\n",
              "    80% {\n",
              "      border-color: transparent;\n",
              "      border-right-color: var(--fill-color);\n",
              "      border-bottom-color: var(--fill-color);\n",
              "    }\n",
              "    90% {\n",
              "      border-color: transparent;\n",
              "      border-bottom-color: var(--fill-color);\n",
              "    }\n",
              "  }\n",
              "</style>\n",
              "\n",
              "  <script>\n",
              "    async function quickchart(key) {\n",
              "      const quickchartButtonEl =\n",
              "        document.querySelector('#' + key + ' button');\n",
              "      quickchartButtonEl.disabled = true;  // To prevent multiple clicks.\n",
              "      quickchartButtonEl.classList.add('colab-df-spinner');\n",
              "      try {\n",
              "        const charts = await google.colab.kernel.invokeFunction(\n",
              "            'suggestCharts', [key], {});\n",
              "      } catch (error) {\n",
              "        console.error('Error during call to suggestCharts:', error);\n",
              "      }\n",
              "      quickchartButtonEl.classList.remove('colab-df-spinner');\n",
              "      quickchartButtonEl.classList.add('colab-df-quickchart-complete');\n",
              "    }\n",
              "    (() => {\n",
              "      let quickchartButtonEl =\n",
              "        document.querySelector('#df-d00cea91-0f0d-4017-abe5-bc2d14ba8f82 button');\n",
              "      quickchartButtonEl.style.display =\n",
              "        google.colab.kernel.accessAllowed ? 'block' : 'none';\n",
              "    })();\n",
              "  </script>\n",
              "</div>\n",
              "\n",
              "  <div id=\"id_7818f7ed-ed23-4230-986d-0ce07c73224e\">\n",
              "    <style>\n",
              "      .colab-df-generate {\n",
              "        background-color: #E8F0FE;\n",
              "        border: none;\n",
              "        border-radius: 50%;\n",
              "        cursor: pointer;\n",
              "        display: none;\n",
              "        fill: #1967D2;\n",
              "        height: 32px;\n",
              "        padding: 0 0 0 0;\n",
              "        width: 32px;\n",
              "      }\n",
              "\n",
              "      .colab-df-generate:hover {\n",
              "        background-color: #E2EBFA;\n",
              "        box-shadow: 0px 1px 2px rgba(60, 64, 67, 0.3), 0px 1px 3px 1px rgba(60, 64, 67, 0.15);\n",
              "        fill: #174EA6;\n",
              "      }\n",
              "\n",
              "      [theme=dark] .colab-df-generate {\n",
              "        background-color: #3B4455;\n",
              "        fill: #D2E3FC;\n",
              "      }\n",
              "\n",
              "      [theme=dark] .colab-df-generate:hover {\n",
              "        background-color: #434B5C;\n",
              "        box-shadow: 0px 1px 3px 1px rgba(0, 0, 0, 0.15);\n",
              "        filter: drop-shadow(0px 1px 2px rgba(0, 0, 0, 0.3));\n",
              "        fill: #FFFFFF;\n",
              "      }\n",
              "    </style>\n",
              "    <button class=\"colab-df-generate\" onclick=\"generateWithVariable('df')\"\n",
              "            title=\"Generate code using this dataframe.\"\n",
              "            style=\"display:none;\">\n",
              "\n",
              "  <svg xmlns=\"http://www.w3.org/2000/svg\" height=\"24px\"viewBox=\"0 0 24 24\"\n",
              "       width=\"24px\">\n",
              "    <path d=\"M7,19H8.4L18.45,9,17,7.55,7,17.6ZM5,21V16.75L18.45,3.32a2,2,0,0,1,2.83,0l1.4,1.43a1.91,1.91,0,0,1,.58,1.4,1.91,1.91,0,0,1-.58,1.4L9.25,21ZM18.45,9,17,7.55Zm-12,3A5.31,5.31,0,0,0,4.9,8.1,5.31,5.31,0,0,0,1,6.5,5.31,5.31,0,0,0,4.9,4.9,5.31,5.31,0,0,0,6.5,1,5.31,5.31,0,0,0,8.1,4.9,5.31,5.31,0,0,0,12,6.5,5.46,5.46,0,0,0,6.5,12Z\"/>\n",
              "  </svg>\n",
              "    </button>\n",
              "    <script>\n",
              "      (() => {\n",
              "      const buttonEl =\n",
              "        document.querySelector('#id_7818f7ed-ed23-4230-986d-0ce07c73224e button.colab-df-generate');\n",
              "      buttonEl.style.display =\n",
              "        google.colab.kernel.accessAllowed ? 'block' : 'none';\n",
              "\n",
              "      buttonEl.onclick = () => {\n",
              "        google.colab.notebook.generateWithVariable('df');\n",
              "      }\n",
              "      })();\n",
              "    </script>\n",
              "  </div>\n",
              "\n",
              "    </div>\n",
              "  </div>\n"
            ],
            "application/vnd.google.colaboratory.intrinsic+json": {
              "type": "dataframe",
              "variable_name": "df"
            }
          },
          "metadata": {},
          "execution_count": 36
        }
      ]
    },
    {
      "cell_type": "code",
      "source": [
        "df.tail()"
      ],
      "metadata": {
        "id": "_evNtpIttrX6",
        "colab": {
          "base_uri": "https://localhost:8080/",
          "height": 411
        },
        "outputId": "bbead3e8-269a-47f6-f493-424ebb3cf24b"
      },
      "execution_count": null,
      "outputs": [
        {
          "output_type": "execute_result",
          "data": {
            "text/plain": [
              "       add_these_pw_job_title_9089    agent_city  \\\n",
              "207046                         NaN        Boston   \n",
              "207047                         NaN          Troy   \n",
              "207048                         NaN      Brooklyn   \n",
              "207049                         NaN       Phoenix   \n",
              "207050                         NaN  Owings Mills   \n",
              "\n",
              "                                 agent_firm_name    agent_state  \\\n",
              "207046    Fragomen, Del Rey, Bernsen & Loewy LLP  MASSACHUSETTS   \n",
              "207047  FRAGOMEN, DEL REY, BERNSEN & LOEWY, PLLC       MICHIGAN   \n",
              "207048       Law Offices of Laura Leibfreid PLLC       NEW YORK   \n",
              "207049   Fragomen, Del Rey, Bernsen & Loewy, LLP        ARIZONA   \n",
              "207050                           Murthy Law Firm       MARYLAND   \n",
              "\n",
              "       application_type case_no    case_number case_received_date case_status  \\\n",
              "207046              NaN     NaN  A-15037-48774         2015-03-24   Certified   \n",
              "207047              NaN     NaN  A-15037-48775         2015-02-06   Certified   \n",
              "207048              NaN     NaN  A-15033-47571         2015-02-12   Certified   \n",
              "207049              NaN     NaN  A-15035-47975         2015-02-04   Certified   \n",
              "207050              NaN     NaN  A-15035-47976         2015-03-16   Certified   \n",
              "\n",
              "       class_of_admission  ... ri_pvt_employment_firm_to  \\\n",
              "207046               H-1B  ...                       NaN   \n",
              "207047                L-1  ...                       NaN   \n",
              "207048               H-1B  ...                       NaN   \n",
              "207049               H-1B  ...                       NaN   \n",
              "207050               H-1B  ...                       NaN   \n",
              "\n",
              "       ri_us_workers_considered schd_a_sheepherder us_economic_sector  \\\n",
              "207046                      NaN                  N                NaN   \n",
              "207047                      NaN                  N                NaN   \n",
              "207048                      NaN                  N                NaN   \n",
              "207049                        A                  N                NaN   \n",
              "207050                      NaN                NaN                NaN   \n",
              "\n",
              "       wage_offer_from_9089 wage_offer_to_9089 wage_offer_unit_of_pay_9089  \\\n",
              "207046            97,198.00                NaN                        Year   \n",
              "207047           100,797.00                NaN                        Year   \n",
              "207048           127,754.00                NaN                        Year   \n",
              "207049            91,505.00         102,000.00                        Year   \n",
              "207050                  NaN                NaN                         NaN   \n",
              "\n",
              "       wage_offered_from_9089 wage_offered_to_9089  \\\n",
              "207046                    NaN                  NaN   \n",
              "207047                    NaN                  NaN   \n",
              "207048                    NaN                  NaN   \n",
              "207049                    NaN                  NaN   \n",
              "207050                    NaN                  NaN   \n",
              "\n",
              "        wage_offered_unit_of_pay_9089  \n",
              "207046                            NaN  \n",
              "207047                            NaN  \n",
              "207048                            NaN  \n",
              "207049                            NaN  \n",
              "207050                            NaN  \n",
              "\n",
              "[5 rows x 154 columns]"
            ],
            "text/html": [
              "\n",
              "  <div id=\"df-dba01d1e-d53e-417e-afe7-53e46db8b940\" class=\"colab-df-container\">\n",
              "    <div>\n",
              "<style scoped>\n",
              "    .dataframe tbody tr th:only-of-type {\n",
              "        vertical-align: middle;\n",
              "    }\n",
              "\n",
              "    .dataframe tbody tr th {\n",
              "        vertical-align: top;\n",
              "    }\n",
              "\n",
              "    .dataframe thead th {\n",
              "        text-align: right;\n",
              "    }\n",
              "</style>\n",
              "<table border=\"1\" class=\"dataframe\">\n",
              "  <thead>\n",
              "    <tr style=\"text-align: right;\">\n",
              "      <th></th>\n",
              "      <th>add_these_pw_job_title_9089</th>\n",
              "      <th>agent_city</th>\n",
              "      <th>agent_firm_name</th>\n",
              "      <th>agent_state</th>\n",
              "      <th>application_type</th>\n",
              "      <th>case_no</th>\n",
              "      <th>case_number</th>\n",
              "      <th>case_received_date</th>\n",
              "      <th>case_status</th>\n",
              "      <th>class_of_admission</th>\n",
              "      <th>...</th>\n",
              "      <th>ri_pvt_employment_firm_to</th>\n",
              "      <th>ri_us_workers_considered</th>\n",
              "      <th>schd_a_sheepherder</th>\n",
              "      <th>us_economic_sector</th>\n",
              "      <th>wage_offer_from_9089</th>\n",
              "      <th>wage_offer_to_9089</th>\n",
              "      <th>wage_offer_unit_of_pay_9089</th>\n",
              "      <th>wage_offered_from_9089</th>\n",
              "      <th>wage_offered_to_9089</th>\n",
              "      <th>wage_offered_unit_of_pay_9089</th>\n",
              "    </tr>\n",
              "  </thead>\n",
              "  <tbody>\n",
              "    <tr>\n",
              "      <th>207046</th>\n",
              "      <td>NaN</td>\n",
              "      <td>Boston</td>\n",
              "      <td>Fragomen, Del Rey, Bernsen &amp; Loewy LLP</td>\n",
              "      <td>MASSACHUSETTS</td>\n",
              "      <td>NaN</td>\n",
              "      <td>NaN</td>\n",
              "      <td>A-15037-48774</td>\n",
              "      <td>2015-03-24</td>\n",
              "      <td>Certified</td>\n",
              "      <td>H-1B</td>\n",
              "      <td>...</td>\n",
              "      <td>NaN</td>\n",
              "      <td>NaN</td>\n",
              "      <td>N</td>\n",
              "      <td>NaN</td>\n",
              "      <td>97,198.00</td>\n",
              "      <td>NaN</td>\n",
              "      <td>Year</td>\n",
              "      <td>NaN</td>\n",
              "      <td>NaN</td>\n",
              "      <td>NaN</td>\n",
              "    </tr>\n",
              "    <tr>\n",
              "      <th>207047</th>\n",
              "      <td>NaN</td>\n",
              "      <td>Troy</td>\n",
              "      <td>FRAGOMEN, DEL REY, BERNSEN &amp; LOEWY, PLLC</td>\n",
              "      <td>MICHIGAN</td>\n",
              "      <td>NaN</td>\n",
              "      <td>NaN</td>\n",
              "      <td>A-15037-48775</td>\n",
              "      <td>2015-02-06</td>\n",
              "      <td>Certified</td>\n",
              "      <td>L-1</td>\n",
              "      <td>...</td>\n",
              "      <td>NaN</td>\n",
              "      <td>NaN</td>\n",
              "      <td>N</td>\n",
              "      <td>NaN</td>\n",
              "      <td>100,797.00</td>\n",
              "      <td>NaN</td>\n",
              "      <td>Year</td>\n",
              "      <td>NaN</td>\n",
              "      <td>NaN</td>\n",
              "      <td>NaN</td>\n",
              "    </tr>\n",
              "    <tr>\n",
              "      <th>207048</th>\n",
              "      <td>NaN</td>\n",
              "      <td>Brooklyn</td>\n",
              "      <td>Law Offices of Laura Leibfreid PLLC</td>\n",
              "      <td>NEW YORK</td>\n",
              "      <td>NaN</td>\n",
              "      <td>NaN</td>\n",
              "      <td>A-15033-47571</td>\n",
              "      <td>2015-02-12</td>\n",
              "      <td>Certified</td>\n",
              "      <td>H-1B</td>\n",
              "      <td>...</td>\n",
              "      <td>NaN</td>\n",
              "      <td>NaN</td>\n",
              "      <td>N</td>\n",
              "      <td>NaN</td>\n",
              "      <td>127,754.00</td>\n",
              "      <td>NaN</td>\n",
              "      <td>Year</td>\n",
              "      <td>NaN</td>\n",
              "      <td>NaN</td>\n",
              "      <td>NaN</td>\n",
              "    </tr>\n",
              "    <tr>\n",
              "      <th>207049</th>\n",
              "      <td>NaN</td>\n",
              "      <td>Phoenix</td>\n",
              "      <td>Fragomen, Del Rey, Bernsen &amp; Loewy, LLP</td>\n",
              "      <td>ARIZONA</td>\n",
              "      <td>NaN</td>\n",
              "      <td>NaN</td>\n",
              "      <td>A-15035-47975</td>\n",
              "      <td>2015-02-04</td>\n",
              "      <td>Certified</td>\n",
              "      <td>H-1B</td>\n",
              "      <td>...</td>\n",
              "      <td>NaN</td>\n",
              "      <td>A</td>\n",
              "      <td>N</td>\n",
              "      <td>NaN</td>\n",
              "      <td>91,505.00</td>\n",
              "      <td>102,000.00</td>\n",
              "      <td>Year</td>\n",
              "      <td>NaN</td>\n",
              "      <td>NaN</td>\n",
              "      <td>NaN</td>\n",
              "    </tr>\n",
              "    <tr>\n",
              "      <th>207050</th>\n",
              "      <td>NaN</td>\n",
              "      <td>Owings Mills</td>\n",
              "      <td>Murthy Law Firm</td>\n",
              "      <td>MARYLAND</td>\n",
              "      <td>NaN</td>\n",
              "      <td>NaN</td>\n",
              "      <td>A-15035-47976</td>\n",
              "      <td>2015-03-16</td>\n",
              "      <td>Certified</td>\n",
              "      <td>H-1B</td>\n",
              "      <td>...</td>\n",
              "      <td>NaN</td>\n",
              "      <td>NaN</td>\n",
              "      <td>NaN</td>\n",
              "      <td>NaN</td>\n",
              "      <td>NaN</td>\n",
              "      <td>NaN</td>\n",
              "      <td>NaN</td>\n",
              "      <td>NaN</td>\n",
              "      <td>NaN</td>\n",
              "      <td>NaN</td>\n",
              "    </tr>\n",
              "  </tbody>\n",
              "</table>\n",
              "<p>5 rows × 154 columns</p>\n",
              "</div>\n",
              "    <div class=\"colab-df-buttons\">\n",
              "\n",
              "  <div class=\"colab-df-container\">\n",
              "    <button class=\"colab-df-convert\" onclick=\"convertToInteractive('df-dba01d1e-d53e-417e-afe7-53e46db8b940')\"\n",
              "            title=\"Convert this dataframe to an interactive table.\"\n",
              "            style=\"display:none;\">\n",
              "\n",
              "  <svg xmlns=\"http://www.w3.org/2000/svg\" height=\"24px\" viewBox=\"0 -960 960 960\">\n",
              "    <path d=\"M120-120v-720h720v720H120Zm60-500h600v-160H180v160Zm220 220h160v-160H400v160Zm0 220h160v-160H400v160ZM180-400h160v-160H180v160Zm440 0h160v-160H620v160ZM180-180h160v-160H180v160Zm440 0h160v-160H620v160Z\"/>\n",
              "  </svg>\n",
              "    </button>\n",
              "\n",
              "  <style>\n",
              "    .colab-df-container {\n",
              "      display:flex;\n",
              "      gap: 12px;\n",
              "    }\n",
              "\n",
              "    .colab-df-convert {\n",
              "      background-color: #E8F0FE;\n",
              "      border: none;\n",
              "      border-radius: 50%;\n",
              "      cursor: pointer;\n",
              "      display: none;\n",
              "      fill: #1967D2;\n",
              "      height: 32px;\n",
              "      padding: 0 0 0 0;\n",
              "      width: 32px;\n",
              "    }\n",
              "\n",
              "    .colab-df-convert:hover {\n",
              "      background-color: #E2EBFA;\n",
              "      box-shadow: 0px 1px 2px rgba(60, 64, 67, 0.3), 0px 1px 3px 1px rgba(60, 64, 67, 0.15);\n",
              "      fill: #174EA6;\n",
              "    }\n",
              "\n",
              "    .colab-df-buttons div {\n",
              "      margin-bottom: 4px;\n",
              "    }\n",
              "\n",
              "    [theme=dark] .colab-df-convert {\n",
              "      background-color: #3B4455;\n",
              "      fill: #D2E3FC;\n",
              "    }\n",
              "\n",
              "    [theme=dark] .colab-df-convert:hover {\n",
              "      background-color: #434B5C;\n",
              "      box-shadow: 0px 1px 3px 1px rgba(0, 0, 0, 0.15);\n",
              "      filter: drop-shadow(0px 1px 2px rgba(0, 0, 0, 0.3));\n",
              "      fill: #FFFFFF;\n",
              "    }\n",
              "  </style>\n",
              "\n",
              "    <script>\n",
              "      const buttonEl =\n",
              "        document.querySelector('#df-dba01d1e-d53e-417e-afe7-53e46db8b940 button.colab-df-convert');\n",
              "      buttonEl.style.display =\n",
              "        google.colab.kernel.accessAllowed ? 'block' : 'none';\n",
              "\n",
              "      async function convertToInteractive(key) {\n",
              "        const element = document.querySelector('#df-dba01d1e-d53e-417e-afe7-53e46db8b940');\n",
              "        const dataTable =\n",
              "          await google.colab.kernel.invokeFunction('convertToInteractive',\n",
              "                                                    [key], {});\n",
              "        if (!dataTable) return;\n",
              "\n",
              "        const docLinkHtml = 'Like what you see? Visit the ' +\n",
              "          '<a target=\"_blank\" href=https://colab.research.google.com/notebooks/data_table.ipynb>data table notebook</a>'\n",
              "          + ' to learn more about interactive tables.';\n",
              "        element.innerHTML = '';\n",
              "        dataTable['output_type'] = 'display_data';\n",
              "        await google.colab.output.renderOutput(dataTable, element);\n",
              "        const docLink = document.createElement('div');\n",
              "        docLink.innerHTML = docLinkHtml;\n",
              "        element.appendChild(docLink);\n",
              "      }\n",
              "    </script>\n",
              "  </div>\n",
              "\n",
              "\n",
              "<div id=\"df-275bd181-5a23-4123-a123-b3507f6b0b07\">\n",
              "  <button class=\"colab-df-quickchart\" onclick=\"quickchart('df-275bd181-5a23-4123-a123-b3507f6b0b07')\"\n",
              "            title=\"Suggest charts\"\n",
              "            style=\"display:none;\">\n",
              "\n",
              "<svg xmlns=\"http://www.w3.org/2000/svg\" height=\"24px\"viewBox=\"0 0 24 24\"\n",
              "     width=\"24px\">\n",
              "    <g>\n",
              "        <path d=\"M19 3H5c-1.1 0-2 .9-2 2v14c0 1.1.9 2 2 2h14c1.1 0 2-.9 2-2V5c0-1.1-.9-2-2-2zM9 17H7v-7h2v7zm4 0h-2V7h2v10zm4 0h-2v-4h2v4z\"/>\n",
              "    </g>\n",
              "</svg>\n",
              "  </button>\n",
              "\n",
              "<style>\n",
              "  .colab-df-quickchart {\n",
              "      --bg-color: #E8F0FE;\n",
              "      --fill-color: #1967D2;\n",
              "      --hover-bg-color: #E2EBFA;\n",
              "      --hover-fill-color: #174EA6;\n",
              "      --disabled-fill-color: #AAA;\n",
              "      --disabled-bg-color: #DDD;\n",
              "  }\n",
              "\n",
              "  [theme=dark] .colab-df-quickchart {\n",
              "      --bg-color: #3B4455;\n",
              "      --fill-color: #D2E3FC;\n",
              "      --hover-bg-color: #434B5C;\n",
              "      --hover-fill-color: #FFFFFF;\n",
              "      --disabled-bg-color: #3B4455;\n",
              "      --disabled-fill-color: #666;\n",
              "  }\n",
              "\n",
              "  .colab-df-quickchart {\n",
              "    background-color: var(--bg-color);\n",
              "    border: none;\n",
              "    border-radius: 50%;\n",
              "    cursor: pointer;\n",
              "    display: none;\n",
              "    fill: var(--fill-color);\n",
              "    height: 32px;\n",
              "    padding: 0;\n",
              "    width: 32px;\n",
              "  }\n",
              "\n",
              "  .colab-df-quickchart:hover {\n",
              "    background-color: var(--hover-bg-color);\n",
              "    box-shadow: 0 1px 2px rgba(60, 64, 67, 0.3), 0 1px 3px 1px rgba(60, 64, 67, 0.15);\n",
              "    fill: var(--button-hover-fill-color);\n",
              "  }\n",
              "\n",
              "  .colab-df-quickchart-complete:disabled,\n",
              "  .colab-df-quickchart-complete:disabled:hover {\n",
              "    background-color: var(--disabled-bg-color);\n",
              "    fill: var(--disabled-fill-color);\n",
              "    box-shadow: none;\n",
              "  }\n",
              "\n",
              "  .colab-df-spinner {\n",
              "    border: 2px solid var(--fill-color);\n",
              "    border-color: transparent;\n",
              "    border-bottom-color: var(--fill-color);\n",
              "    animation:\n",
              "      spin 1s steps(1) infinite;\n",
              "  }\n",
              "\n",
              "  @keyframes spin {\n",
              "    0% {\n",
              "      border-color: transparent;\n",
              "      border-bottom-color: var(--fill-color);\n",
              "      border-left-color: var(--fill-color);\n",
              "    }\n",
              "    20% {\n",
              "      border-color: transparent;\n",
              "      border-left-color: var(--fill-color);\n",
              "      border-top-color: var(--fill-color);\n",
              "    }\n",
              "    30% {\n",
              "      border-color: transparent;\n",
              "      border-left-color: var(--fill-color);\n",
              "      border-top-color: var(--fill-color);\n",
              "      border-right-color: var(--fill-color);\n",
              "    }\n",
              "    40% {\n",
              "      border-color: transparent;\n",
              "      border-right-color: var(--fill-color);\n",
              "      border-top-color: var(--fill-color);\n",
              "    }\n",
              "    60% {\n",
              "      border-color: transparent;\n",
              "      border-right-color: var(--fill-color);\n",
              "    }\n",
              "    80% {\n",
              "      border-color: transparent;\n",
              "      border-right-color: var(--fill-color);\n",
              "      border-bottom-color: var(--fill-color);\n",
              "    }\n",
              "    90% {\n",
              "      border-color: transparent;\n",
              "      border-bottom-color: var(--fill-color);\n",
              "    }\n",
              "  }\n",
              "</style>\n",
              "\n",
              "  <script>\n",
              "    async function quickchart(key) {\n",
              "      const quickchartButtonEl =\n",
              "        document.querySelector('#' + key + ' button');\n",
              "      quickchartButtonEl.disabled = true;  // To prevent multiple clicks.\n",
              "      quickchartButtonEl.classList.add('colab-df-spinner');\n",
              "      try {\n",
              "        const charts = await google.colab.kernel.invokeFunction(\n",
              "            'suggestCharts', [key], {});\n",
              "      } catch (error) {\n",
              "        console.error('Error during call to suggestCharts:', error);\n",
              "      }\n",
              "      quickchartButtonEl.classList.remove('colab-df-spinner');\n",
              "      quickchartButtonEl.classList.add('colab-df-quickchart-complete');\n",
              "    }\n",
              "    (() => {\n",
              "      let quickchartButtonEl =\n",
              "        document.querySelector('#df-275bd181-5a23-4123-a123-b3507f6b0b07 button');\n",
              "      quickchartButtonEl.style.display =\n",
              "        google.colab.kernel.accessAllowed ? 'block' : 'none';\n",
              "    })();\n",
              "  </script>\n",
              "</div>\n",
              "\n",
              "    </div>\n",
              "  </div>\n"
            ],
            "application/vnd.google.colaboratory.intrinsic+json": {
              "type": "dataframe"
            }
          },
          "metadata": {},
          "execution_count": 37
        }
      ]
    },
    {
      "cell_type": "code",
      "source": [
        "df.sample(1)"
      ],
      "metadata": {
        "id": "hhGPX6b6uEC1",
        "colab": {
          "base_uri": "https://localhost:8080/",
          "height": 165
        },
        "outputId": "453b4ac3-5535-49a5-ba2d-005538ee1022"
      },
      "execution_count": null,
      "outputs": [
        {
          "output_type": "execute_result",
          "data": {
            "text/plain": [
              "       add_these_pw_job_title_9089 agent_city agent_firm_name agent_state  \\\n",
              "109744                         NaN        NaN             NaN         NaN   \n",
              "\n",
              "       application_type        case_no case_number case_received_date  \\\n",
              "109744           ONLINE  A-13270-00929         NaN                NaN   \n",
              "\n",
              "       case_status class_of_admission  ... ri_pvt_employment_firm_to  \\\n",
              "109744   Certified               H-1B  ...                       NaN   \n",
              "\n",
              "       ri_us_workers_considered schd_a_sheepherder us_economic_sector  \\\n",
              "109744                      NaN                NaN            Finance   \n",
              "\n",
              "       wage_offer_from_9089 wage_offer_to_9089 wage_offer_unit_of_pay_9089  \\\n",
              "109744                  NaN                NaN                         NaN   \n",
              "\n",
              "       wage_offered_from_9089 wage_offered_to_9089  \\\n",
              "109744               112200.0             127200.0   \n",
              "\n",
              "        wage_offered_unit_of_pay_9089  \n",
              "109744                           Year  \n",
              "\n",
              "[1 rows x 154 columns]"
            ],
            "text/html": [
              "\n",
              "  <div id=\"df-9af6bbb3-a100-4b79-84c5-4d9d34e229f0\" class=\"colab-df-container\">\n",
              "    <div>\n",
              "<style scoped>\n",
              "    .dataframe tbody tr th:only-of-type {\n",
              "        vertical-align: middle;\n",
              "    }\n",
              "\n",
              "    .dataframe tbody tr th {\n",
              "        vertical-align: top;\n",
              "    }\n",
              "\n",
              "    .dataframe thead th {\n",
              "        text-align: right;\n",
              "    }\n",
              "</style>\n",
              "<table border=\"1\" class=\"dataframe\">\n",
              "  <thead>\n",
              "    <tr style=\"text-align: right;\">\n",
              "      <th></th>\n",
              "      <th>add_these_pw_job_title_9089</th>\n",
              "      <th>agent_city</th>\n",
              "      <th>agent_firm_name</th>\n",
              "      <th>agent_state</th>\n",
              "      <th>application_type</th>\n",
              "      <th>case_no</th>\n",
              "      <th>case_number</th>\n",
              "      <th>case_received_date</th>\n",
              "      <th>case_status</th>\n",
              "      <th>class_of_admission</th>\n",
              "      <th>...</th>\n",
              "      <th>ri_pvt_employment_firm_to</th>\n",
              "      <th>ri_us_workers_considered</th>\n",
              "      <th>schd_a_sheepherder</th>\n",
              "      <th>us_economic_sector</th>\n",
              "      <th>wage_offer_from_9089</th>\n",
              "      <th>wage_offer_to_9089</th>\n",
              "      <th>wage_offer_unit_of_pay_9089</th>\n",
              "      <th>wage_offered_from_9089</th>\n",
              "      <th>wage_offered_to_9089</th>\n",
              "      <th>wage_offered_unit_of_pay_9089</th>\n",
              "    </tr>\n",
              "  </thead>\n",
              "  <tbody>\n",
              "    <tr>\n",
              "      <th>109744</th>\n",
              "      <td>NaN</td>\n",
              "      <td>NaN</td>\n",
              "      <td>NaN</td>\n",
              "      <td>NaN</td>\n",
              "      <td>ONLINE</td>\n",
              "      <td>A-13270-00929</td>\n",
              "      <td>NaN</td>\n",
              "      <td>NaN</td>\n",
              "      <td>Certified</td>\n",
              "      <td>H-1B</td>\n",
              "      <td>...</td>\n",
              "      <td>NaN</td>\n",
              "      <td>NaN</td>\n",
              "      <td>NaN</td>\n",
              "      <td>Finance</td>\n",
              "      <td>NaN</td>\n",
              "      <td>NaN</td>\n",
              "      <td>NaN</td>\n",
              "      <td>112200.0</td>\n",
              "      <td>127200.0</td>\n",
              "      <td>Year</td>\n",
              "    </tr>\n",
              "  </tbody>\n",
              "</table>\n",
              "<p>1 rows × 154 columns</p>\n",
              "</div>\n",
              "    <div class=\"colab-df-buttons\">\n",
              "\n",
              "  <div class=\"colab-df-container\">\n",
              "    <button class=\"colab-df-convert\" onclick=\"convertToInteractive('df-9af6bbb3-a100-4b79-84c5-4d9d34e229f0')\"\n",
              "            title=\"Convert this dataframe to an interactive table.\"\n",
              "            style=\"display:none;\">\n",
              "\n",
              "  <svg xmlns=\"http://www.w3.org/2000/svg\" height=\"24px\" viewBox=\"0 -960 960 960\">\n",
              "    <path d=\"M120-120v-720h720v720H120Zm60-500h600v-160H180v160Zm220 220h160v-160H400v160Zm0 220h160v-160H400v160ZM180-400h160v-160H180v160Zm440 0h160v-160H620v160ZM180-180h160v-160H180v160Zm440 0h160v-160H620v160Z\"/>\n",
              "  </svg>\n",
              "    </button>\n",
              "\n",
              "  <style>\n",
              "    .colab-df-container {\n",
              "      display:flex;\n",
              "      gap: 12px;\n",
              "    }\n",
              "\n",
              "    .colab-df-convert {\n",
              "      background-color: #E8F0FE;\n",
              "      border: none;\n",
              "      border-radius: 50%;\n",
              "      cursor: pointer;\n",
              "      display: none;\n",
              "      fill: #1967D2;\n",
              "      height: 32px;\n",
              "      padding: 0 0 0 0;\n",
              "      width: 32px;\n",
              "    }\n",
              "\n",
              "    .colab-df-convert:hover {\n",
              "      background-color: #E2EBFA;\n",
              "      box-shadow: 0px 1px 2px rgba(60, 64, 67, 0.3), 0px 1px 3px 1px rgba(60, 64, 67, 0.15);\n",
              "      fill: #174EA6;\n",
              "    }\n",
              "\n",
              "    .colab-df-buttons div {\n",
              "      margin-bottom: 4px;\n",
              "    }\n",
              "\n",
              "    [theme=dark] .colab-df-convert {\n",
              "      background-color: #3B4455;\n",
              "      fill: #D2E3FC;\n",
              "    }\n",
              "\n",
              "    [theme=dark] .colab-df-convert:hover {\n",
              "      background-color: #434B5C;\n",
              "      box-shadow: 0px 1px 3px 1px rgba(0, 0, 0, 0.15);\n",
              "      filter: drop-shadow(0px 1px 2px rgba(0, 0, 0, 0.3));\n",
              "      fill: #FFFFFF;\n",
              "    }\n",
              "  </style>\n",
              "\n",
              "    <script>\n",
              "      const buttonEl =\n",
              "        document.querySelector('#df-9af6bbb3-a100-4b79-84c5-4d9d34e229f0 button.colab-df-convert');\n",
              "      buttonEl.style.display =\n",
              "        google.colab.kernel.accessAllowed ? 'block' : 'none';\n",
              "\n",
              "      async function convertToInteractive(key) {\n",
              "        const element = document.querySelector('#df-9af6bbb3-a100-4b79-84c5-4d9d34e229f0');\n",
              "        const dataTable =\n",
              "          await google.colab.kernel.invokeFunction('convertToInteractive',\n",
              "                                                    [key], {});\n",
              "        if (!dataTable) return;\n",
              "\n",
              "        const docLinkHtml = 'Like what you see? Visit the ' +\n",
              "          '<a target=\"_blank\" href=https://colab.research.google.com/notebooks/data_table.ipynb>data table notebook</a>'\n",
              "          + ' to learn more about interactive tables.';\n",
              "        element.innerHTML = '';\n",
              "        dataTable['output_type'] = 'display_data';\n",
              "        await google.colab.output.renderOutput(dataTable, element);\n",
              "        const docLink = document.createElement('div');\n",
              "        docLink.innerHTML = docLinkHtml;\n",
              "        element.appendChild(docLink);\n",
              "      }\n",
              "    </script>\n",
              "  </div>\n",
              "\n",
              "\n",
              "    </div>\n",
              "  </div>\n"
            ],
            "application/vnd.google.colaboratory.intrinsic+json": {
              "type": "dataframe"
            }
          },
          "metadata": {},
          "execution_count": 38
        }
      ]
    },
    {
      "cell_type": "code",
      "source": [
        "print(df.columns.values)"
      ],
      "metadata": {
        "id": "lUrEeYwWuHma",
        "colab": {
          "base_uri": "https://localhost:8080/"
        },
        "outputId": "85810c4d-bb06-4afd-fd3c-e8fb0df238d7"
      },
      "execution_count": null,
      "outputs": [
        {
          "output_type": "stream",
          "name": "stdout",
          "text": [
            "['add_these_pw_job_title_9089' 'agent_city' 'agent_firm_name'\n",
            " 'agent_state' 'application_type' 'case_no' 'case_number'\n",
            " 'case_received_date' 'case_status' 'class_of_admission'\n",
            " 'country_of_citizenship' 'country_of_citzenship' 'decision_date'\n",
            " 'employer_address_1' 'employer_address_2' 'employer_city'\n",
            " 'employer_country' 'employer_decl_info_title' 'employer_name'\n",
            " 'employer_num_employees' 'employer_phone' 'employer_phone_ext'\n",
            " 'employer_postal_code' 'employer_state' 'employer_yr_estab'\n",
            " 'foreign_worker_info_alt_edu_experience'\n",
            " 'foreign_worker_info_birth_country' 'foreign_worker_info_city'\n",
            " 'foreign_worker_info_education' 'foreign_worker_info_education_other'\n",
            " 'foreign_worker_info_inst' 'foreign_worker_info_major'\n",
            " 'foreign_worker_info_postal_code' 'foreign_worker_info_rel_occup_exp'\n",
            " 'foreign_worker_info_req_experience' 'foreign_worker_info_state'\n",
            " 'foreign_worker_info_training_comp' 'foreign_worker_ownership_interest'\n",
            " 'foreign_worker_yr_rel_edu_completed' 'fw_info_alt_edu_experience'\n",
            " 'fw_info_birth_country' 'fw_info_education_other' 'fw_info_postal_code'\n",
            " 'fw_info_rel_occup_exp' 'fw_info_req_experience' 'fw_info_training_comp'\n",
            " 'fw_info_yr_rel_edu_completed' 'fw_ownership_interest'\n",
            " 'ji_foreign_worker_live_on_premises' 'ji_fw_live_on_premises'\n",
            " 'ji_live_in_dom_svc_contract' 'ji_live_in_domestic_service'\n",
            " 'ji_offered_to_sec_j_foreign_worker' 'ji_offered_to_sec_j_fw'\n",
            " 'job_info_alt_cmb_ed_oth_yrs' 'job_info_alt_combo_ed'\n",
            " 'job_info_alt_combo_ed_exp' 'job_info_alt_combo_ed_other'\n",
            " 'job_info_alt_field' 'job_info_alt_field_name' 'job_info_alt_occ'\n",
            " 'job_info_alt_occ_job_title' 'job_info_alt_occ_num_months'\n",
            " 'job_info_combo_occupation' 'job_info_education'\n",
            " 'job_info_education_other' 'job_info_experience'\n",
            " 'job_info_experience_num_months' 'job_info_foreign_ed'\n",
            " 'job_info_foreign_lang_req' 'job_info_job_req_normal'\n",
            " 'job_info_job_title' 'job_info_major' 'job_info_training'\n",
            " 'job_info_training_field' 'job_info_training_num_months'\n",
            " 'job_info_work_city' 'job_info_work_postal_code' 'job_info_work_state'\n",
            " 'naics_2007_us_code' 'naics_2007_us_title' 'naics_code' 'naics_title'\n",
            " 'naics_us_code' 'naics_us_code_2007' 'naics_us_title'\n",
            " 'naics_us_title_2007' 'orig_case_no' 'orig_file_date'\n",
            " 'preparer_info_emp_completed' 'preparer_info_title' 'pw_amount_9089'\n",
            " 'pw_determ_date' 'pw_expire_date' 'pw_job_title_908' 'pw_job_title_9089'\n",
            " 'pw_level_9089' 'pw_soc_code' 'pw_soc_title' 'pw_source_name_9089'\n",
            " 'pw_source_name_other_9089' 'pw_track_num' 'pw_unit_of_pay_9089'\n",
            " 'rec_info_barg_rep_notified' 'recr_info_barg_rep_notified'\n",
            " 'recr_info_coll_teach_comp_proc' 'recr_info_coll_univ_teacher'\n",
            " 'recr_info_employer_rec_payment' 'recr_info_first_ad_start'\n",
            " 'recr_info_job_fair_from' 'recr_info_job_fair_to'\n",
            " 'recr_info_on_campus_recr_from' 'recr_info_on_campus_recr_to'\n",
            " 'recr_info_pro_org_advert_from' 'recr_info_pro_org_advert_to'\n",
            " 'recr_info_prof_org_advert_from' 'recr_info_prof_org_advert_to'\n",
            " 'recr_info_professional_occ' 'recr_info_radio_tv_ad_from'\n",
            " 'recr_info_radio_tv_ad_to' 'recr_info_second_ad_start'\n",
            " 'recr_info_sunday_newspaper' 'recr_info_swa_job_order_end'\n",
            " 'recr_info_swa_job_order_start' 'refile' 'ri_1st_ad_newspaper_name'\n",
            " 'ri_2nd_ad_newspaper_name' 'ri_2nd_ad_newspaper_or_journal'\n",
            " 'ri_campus_placement_from' 'ri_campus_placement_to'\n",
            " 'ri_coll_tch_basic_process' 'ri_coll_teach_pro_jnl'\n",
            " 'ri_coll_teach_select_date' 'ri_employee_referral_prog_from'\n",
            " 'ri_employee_referral_prog_to' 'ri_employer_web_post_from'\n",
            " 'ri_employer_web_post_to' 'ri_job_search_website_from'\n",
            " 'ri_job_search_website_to' 'ri_layoff_in_past_six_months'\n",
            " 'ri_local_ethnic_paper_from' 'ri_local_ethnic_paper_to'\n",
            " 'ri_posted_notice_at_worksite' 'ri_pvt_employment_firm_from'\n",
            " 'ri_pvt_employment_firm_to' 'ri_us_workers_considered'\n",
            " 'schd_a_sheepherder' 'us_economic_sector' 'wage_offer_from_9089'\n",
            " 'wage_offer_to_9089' 'wage_offer_unit_of_pay_9089'\n",
            " 'wage_offered_from_9089' 'wage_offered_to_9089'\n",
            " 'wage_offered_unit_of_pay_9089']\n"
          ]
        }
      ]
    },
    {
      "cell_type": "code",
      "source": [
        "df[\"case_no\"].nunique()"
      ],
      "metadata": {
        "id": "BCc-WptDuNkl",
        "colab": {
          "base_uri": "https://localhost:8080/"
        },
        "outputId": "08734a38-3f0a-4076-d2f0-12ee131e624d"
      },
      "execution_count": null,
      "outputs": [
        {
          "output_type": "execute_result",
          "data": {
            "text/plain": [
              "134990"
            ]
          },
          "metadata": {},
          "execution_count": 40
        }
      ]
    },
    {
      "cell_type": "code",
      "source": [
        "df[\"case_number\"].nunique()"
      ],
      "metadata": {
        "id": "MR7oGnLxuaYl",
        "colab": {
          "base_uri": "https://localhost:8080/"
        },
        "outputId": "64b0b637-af94-4662-90ab-5e31906b7bc7"
      },
      "execution_count": null,
      "outputs": [
        {
          "output_type": "execute_result",
          "data": {
            "text/plain": [
              "71782"
            ]
          },
          "metadata": {},
          "execution_count": 41
        }
      ]
    },
    {
      "cell_type": "code",
      "source": [
        "casenumberimdex=df.columns.get_loc(\"case_number\")\n",
        "case_noindex=df.columns.get_loc(\"case_no\")\n",
        "casenumberlist=[]\n",
        "for value in df.iloc[0:8679,casenumberindex]:\n",
        "    casenumberlist.append(value)\n",
        "for value in df.iloc[8679:143948,casenoindex]:\n",
        "    casenumberlist.append(value)\n",
        "\n",
        "df[\"caseno\"]=casenumberlist"
      ],
      "metadata": {
        "id": "v2UllhpwcWvE",
        "colab": {
          "base_uri": "https://localhost:8080/",
          "height": 219
        },
        "outputId": "f06e5a33-043c-43da-dd72-2c2928f8fc93"
      },
      "execution_count": null,
      "outputs": [
        {
          "output_type": "error",
          "ename": "NameError",
          "evalue": "name 'casenumberindex' is not defined",
          "traceback": [
            "\u001b[0;31m---------------------------------------------------------------------------\u001b[0m",
            "\u001b[0;31mNameError\u001b[0m                                 Traceback (most recent call last)",
            "\u001b[0;32m<ipython-input-42-ed9c0fe31205>\u001b[0m in \u001b[0;36m<cell line: 4>\u001b[0;34m()\u001b[0m\n\u001b[1;32m      2\u001b[0m \u001b[0mcase_noindex\u001b[0m\u001b[0;34m=\u001b[0m\u001b[0mdf\u001b[0m\u001b[0;34m.\u001b[0m\u001b[0mcolumns\u001b[0m\u001b[0;34m.\u001b[0m\u001b[0mget_loc\u001b[0m\u001b[0;34m(\u001b[0m\u001b[0;34m\"case_no\"\u001b[0m\u001b[0;34m)\u001b[0m\u001b[0;34m\u001b[0m\u001b[0;34m\u001b[0m\u001b[0m\n\u001b[1;32m      3\u001b[0m \u001b[0mcasenumberlist\u001b[0m\u001b[0;34m=\u001b[0m\u001b[0;34m[\u001b[0m\u001b[0;34m]\u001b[0m\u001b[0;34m\u001b[0m\u001b[0;34m\u001b[0m\u001b[0m\n\u001b[0;32m----> 4\u001b[0;31m \u001b[0;32mfor\u001b[0m \u001b[0mvalue\u001b[0m \u001b[0;32min\u001b[0m \u001b[0mdf\u001b[0m\u001b[0;34m.\u001b[0m\u001b[0miloc\u001b[0m\u001b[0;34m[\u001b[0m\u001b[0;36m0\u001b[0m\u001b[0;34m:\u001b[0m\u001b[0;36m8679\u001b[0m\u001b[0;34m,\u001b[0m\u001b[0mcasenumberindex\u001b[0m\u001b[0;34m]\u001b[0m\u001b[0;34m:\u001b[0m\u001b[0;34m\u001b[0m\u001b[0;34m\u001b[0m\u001b[0m\n\u001b[0m\u001b[1;32m      5\u001b[0m     \u001b[0mcasenumberlist\u001b[0m\u001b[0;34m.\u001b[0m\u001b[0mappend\u001b[0m\u001b[0;34m(\u001b[0m\u001b[0mvalue\u001b[0m\u001b[0;34m)\u001b[0m\u001b[0;34m\u001b[0m\u001b[0;34m\u001b[0m\u001b[0m\n\u001b[1;32m      6\u001b[0m \u001b[0;32mfor\u001b[0m \u001b[0mvalue\u001b[0m \u001b[0;32min\u001b[0m \u001b[0mdf\u001b[0m\u001b[0;34m.\u001b[0m\u001b[0miloc\u001b[0m\u001b[0;34m[\u001b[0m\u001b[0;36m8679\u001b[0m\u001b[0;34m:\u001b[0m\u001b[0;36m143948\u001b[0m\u001b[0;34m,\u001b[0m\u001b[0mcasenoindex\u001b[0m\u001b[0;34m]\u001b[0m\u001b[0;34m:\u001b[0m\u001b[0;34m\u001b[0m\u001b[0;34m\u001b[0m\u001b[0m\n",
            "\u001b[0;31mNameError\u001b[0m: name 'casenumberindex' is not defined"
          ]
        }
      ]
    },
    {
      "cell_type": "code",
      "source": [
        "df.columns"
      ],
      "metadata": {
        "id": "8_tU1Do2igAA"
      },
      "execution_count": null,
      "outputs": []
    },
    {
      "cell_type": "code",
      "source": [],
      "metadata": {
        "id": "CrXBbZf1ioYN"
      },
      "execution_count": null,
      "outputs": []
    },
    {
      "cell_type": "code",
      "source": [
        "df.drop([\"case_number\",\"case_no\"],axis=1,inplace=True)"
      ],
      "metadata": {
        "id": "coNx4UcoiugK"
      },
      "execution_count": null,
      "outputs": []
    },
    {
      "cell_type": "code",
      "source": [
        "df.columns"
      ],
      "metadata": {
        "colab": {
          "base_uri": "https://localhost:8080/"
        },
        "id": "_F_4Tr2biyVS",
        "outputId": "504b2058-86a8-4c03-c7bb-b097318aa44c"
      },
      "execution_count": null,
      "outputs": [
        {
          "output_type": "execute_result",
          "data": {
            "text/plain": [
              "Index(['add_these_pw_job_title_9089', 'agent_city', 'agent_firm_name',\n",
              "       'agent_state', 'application_type', 'case_received_date', 'case_status',\n",
              "       'class_of_admission', 'country_of_citizenship', 'country_of_citzenship',\n",
              "       ...\n",
              "       'ri_pvt_employment_firm_to', 'ri_us_workers_considered',\n",
              "       'schd_a_sheepherder', 'us_economic_sector', 'wage_offer_from_9089',\n",
              "       'wage_offer_to_9089', 'wage_offer_unit_of_pay_9089',\n",
              "       'wage_offered_from_9089', 'wage_offered_to_9089',\n",
              "       'wage_offered_unit_of_pay_9089'],\n",
              "      dtype='object', length=152)"
            ]
          },
          "metadata": {},
          "execution_count": 44
        }
      ]
    },
    {
      "cell_type": "code",
      "source": [
        "df[\"case_status\"].unique()"
      ],
      "metadata": {
        "colab": {
          "base_uri": "https://localhost:8080/"
        },
        "id": "kpp3NHOdi1Ju",
        "outputId": "eed04787-9cce-4350-da6e-0b3297174e9e"
      },
      "execution_count": null,
      "outputs": [
        {
          "output_type": "execute_result",
          "data": {
            "text/plain": [
              "array(['Certified', 'Denied', 'Certified-Expired', 'Withdrawn'],\n",
              "      dtype=object)"
            ]
          },
          "metadata": {},
          "execution_count": 23
        }
      ]
    },
    {
      "cell_type": "code",
      "source": [
        "for value in df.case_status.unique():\n",
        "  print(len(df[df[\"case_status\"]==value]),\"occurence of status {}\".format(value))"
      ],
      "metadata": {
        "colab": {
          "base_uri": "https://localhost:8080/"
        },
        "id": "-iekg-GCi_om",
        "outputId": "56642874-29f6-4173-9658-70629c9d954b"
      },
      "execution_count": null,
      "outputs": [
        {
          "output_type": "stream",
          "name": "stdout",
          "text": [
            "6924 occurence of status Certified\n",
            "2323 occurence of status Denied\n",
            "4726 occurence of status Certified-Expired\n",
            "469 occurence of status Withdrawn\n"
          ]
        }
      ]
    },
    {
      "cell_type": "code",
      "source": [
        "for value in df.case_status.unique():\n",
        "  print(len(df[df[\"case_status\"]==value]), \"occcurence of status {}\".format(value))"
      ],
      "metadata": {
        "colab": {
          "base_uri": "https://localhost:8080/"
        },
        "id": "xWY9J1GKjO2-",
        "outputId": "d15a3205-f82a-4585-b49b-b198c9c73780"
      },
      "execution_count": null,
      "outputs": [
        {
          "output_type": "stream",
          "name": "stdout",
          "text": [
            "6924 occcurence of status Certified\n",
            "2323 occcurence of status Denied\n",
            "4726 occcurence of status Certified-Expired\n",
            "469 occcurence of status Withdrawn\n"
          ]
        }
      ]
    },
    {
      "cell_type": "code",
      "source": [
        "df=df[df.case_status!=\"Withdrawn\"]"
      ],
      "metadata": {
        "id": "P3w2eCfFl3eH"
      },
      "execution_count": null,
      "outputs": []
    },
    {
      "cell_type": "code",
      "source": [
        "df.shape"
      ],
      "metadata": {
        "colab": {
          "base_uri": "https://localhost:8080/"
        },
        "id": "_sOeDeZSmjHw",
        "outputId": "6d3d1e94-cc54-414e-d838-3bd45bfed0b8"
      },
      "execution_count": null,
      "outputs": [
        {
          "output_type": "execute_result",
          "data": {
            "text/plain": [
              "(13973, 154)"
            ]
          },
          "metadata": {},
          "execution_count": 27
        }
      ]
    },
    {
      "cell_type": "code",
      "source": [],
      "metadata": {
        "id": "jZNFbbhRndri"
      },
      "execution_count": null,
      "outputs": []
    },
    {
      "cell_type": "code",
      "source": [
        "df.loc[df.case_status==\"Certified-Expired\",\"case_status\"]=\"Certified\"\n",
        "df.case_status.value_counts()"
      ],
      "metadata": {
        "colab": {
          "base_uri": "https://localhost:8080/"
        },
        "id": "BXpOdHeMmn2_",
        "outputId": "9eab13cf-465c-46b5-ab80-0282bd590dfc"
      },
      "execution_count": null,
      "outputs": [
        {
          "output_type": "execute_result",
          "data": {
            "text/plain": [
              "case_status\n",
              "Certified    11650\n",
              "Denied        2323\n",
              "Name: count, dtype: int64"
            ]
          },
          "metadata": {},
          "execution_count": 28
        }
      ]
    },
    {
      "cell_type": "code",
      "source": [
        "df.shape"
      ],
      "metadata": {
        "colab": {
          "base_uri": "https://localhost:8080/"
        },
        "id": "lNPNUadenS27",
        "outputId": "8e9dfa0d-faf0-4a8d-973d-c5b09c9743ec"
      },
      "execution_count": null,
      "outputs": [
        {
          "output_type": "execute_result",
          "data": {
            "text/plain": [
              "(13973, 154)"
            ]
          },
          "metadata": {},
          "execution_count": 29
        }
      ]
    },
    {
      "cell_type": "code",
      "source": [
        "df.case_status.value_counts(normalize=True)*100"
      ],
      "metadata": {
        "colab": {
          "base_uri": "https://localhost:8080/"
        },
        "id": "7qKGzLLwoCg8",
        "outputId": "b7bc6948-9309-4dc5-82d4-2c39f7caa666"
      },
      "execution_count": null,
      "outputs": [
        {
          "output_type": "execute_result",
          "data": {
            "text/plain": [
              "case_status\n",
              "Certified    83.375081\n",
              "Denied       16.624919\n",
              "Name: proportion, dtype: float64"
            ]
          },
          "metadata": {},
          "execution_count": 30
        }
      ]
    },
    {
      "cell_type": "code",
      "source": [
        "#drop all empty rows and columsn\n",
        "df.dropna(axis=1,how=\"all\",inplace=True)\n",
        "df.dropna(axis=0,how=\"all\",inplace=True )"
      ],
      "metadata": {
        "id": "J8TZsee4pupG"
      },
      "execution_count": null,
      "outputs": []
    },
    {
      "cell_type": "code",
      "source": [
        "df.shape"
      ],
      "metadata": {
        "colab": {
          "base_uri": "https://localhost:8080/"
        },
        "id": "X330J13SqAQ7",
        "outputId": "cb0f33cb-8c79-4296-aa38-46954ca3bb7d"
      },
      "execution_count": null,
      "outputs": [
        {
          "output_type": "execute_result",
          "data": {
            "text/plain": [
              "(13973, 27)"
            ]
          },
          "metadata": {},
          "execution_count": 32
        }
      ]
    },
    {
      "cell_type": "code",
      "source": [
        "for column in df.columns:\n",
        "  print(f\"the missing value for{column}is{df[column].isnull().sum()}\")"
      ],
      "metadata": {
        "colab": {
          "base_uri": "https://localhost:8080/"
        },
        "id": "3VrdIWKJqGDm",
        "outputId": "2b4e24af-c392-41f2-d9f7-e91501f3d815"
      },
      "execution_count": null,
      "outputs": [
        {
          "output_type": "stream",
          "name": "stdout",
          "text": [
            "the missing value forapplication_typeis0\n",
            "the missing value forcase_nois0\n",
            "the missing value forcase_statusis0\n",
            "the missing value forclass_of_admissionis874\n",
            "the missing value forcountry_of_citzenshipis0\n",
            "the missing value fordecision_dateis0\n",
            "the missing value foremployer_address_1is2\n",
            "the missing value foremployer_address_2is9471\n",
            "the missing value foremployer_cityis2\n",
            "the missing value foremployer_nameis2\n",
            "the missing value foremployer_postal_codeis6\n",
            "the missing value foremployer_stateis2\n",
            "the missing value forjob_info_work_cityis2\n",
            "the missing value forjob_info_work_stateis2\n",
            "the missing value fornaics_2007_us_codeis26\n",
            "the missing value fornaics_2007_us_titleis375\n",
            "the missing value forpw_amount_9089is26\n",
            "the missing value forpw_job_title_9089is26\n",
            "the missing value forpw_level_9089is629\n",
            "the missing value forpw_soc_codeis7\n",
            "the missing value forpw_soc_titleis7\n",
            "the missing value forpw_source_name_9089is4\n",
            "the missing value forpw_unit_of_pay_9089is26\n",
            "the missing value forus_economic_sectoris375\n",
            "the missing value forwage_offer_from_9089is0\n",
            "the missing value forwage_offer_to_9089is10824\n",
            "the missing value forwage_offer_unit_of_pay_9089is0\n"
          ]
        }
      ]
    },
    {
      "cell_type": "code",
      "source": [
        "for columns in df.columns:\n",
        "  print(f\"the unique values for{columns}is {df[column].isnull().sum()}\")"
      ],
      "metadata": {
        "colab": {
          "base_uri": "https://localhost:8080/"
        },
        "id": "r45L3W6Dqlrk",
        "outputId": "49342b3b-cd48-4857-a0b2-a7f0f9e89703"
      },
      "execution_count": null,
      "outputs": [
        {
          "output_type": "stream",
          "name": "stdout",
          "text": [
            "the unique values forapplication_typeis 0\n",
            "the unique values forcase_nois 0\n",
            "the unique values forcase_statusis 0\n",
            "the unique values forclass_of_admissionis 0\n",
            "the unique values forcountry_of_citzenshipis 0\n",
            "the unique values fordecision_dateis 0\n",
            "the unique values foremployer_address_1is 0\n",
            "the unique values foremployer_address_2is 0\n",
            "the unique values foremployer_cityis 0\n",
            "the unique values foremployer_nameis 0\n",
            "the unique values foremployer_postal_codeis 0\n",
            "the unique values foremployer_stateis 0\n",
            "the unique values forjob_info_work_cityis 0\n",
            "the unique values forjob_info_work_stateis 0\n",
            "the unique values fornaics_2007_us_codeis 0\n",
            "the unique values fornaics_2007_us_titleis 0\n",
            "the unique values forpw_amount_9089is 0\n",
            "the unique values forpw_job_title_9089is 0\n",
            "the unique values forpw_level_9089is 0\n",
            "the unique values forpw_soc_codeis 0\n",
            "the unique values forpw_soc_titleis 0\n",
            "the unique values forpw_source_name_9089is 0\n",
            "the unique values forpw_unit_of_pay_9089is 0\n",
            "the unique values forus_economic_sectoris 0\n",
            "the unique values forwage_offer_from_9089is 0\n",
            "the unique values forwage_offer_to_9089is 0\n",
            "the unique values forwage_offer_unit_of_pay_9089is 0\n"
          ]
        }
      ]
    },
    {
      "cell_type": "code",
      "source": [
        "df[\"decision_date\"]"
      ],
      "metadata": {
        "colab": {
          "base_uri": "https://localhost:8080/"
        },
        "id": "4BvHUD9LrNZl",
        "outputId": "0e36824d-5af2-4b46-dcdd-990baddc7aec"
      },
      "execution_count": null,
      "outputs": [
        {
          "output_type": "execute_result",
          "data": {
            "text/plain": [
              "0        2012-02-01\n",
              "1        2011-12-21\n",
              "2        2011-12-01\n",
              "3        2011-12-01\n",
              "4        2012-01-26\n",
              "            ...    \n",
              "14435    2011-12-07\n",
              "14437    2011-12-16\n",
              "14438    2011-12-13\n",
              "14439    2012-01-03\n",
              "14440    2011-11-30\n",
              "Name: decision_date, Length: 13973, dtype: object"
            ]
          },
          "metadata": {},
          "execution_count": 35
        }
      ]
    },
    {
      "cell_type": "code",
      "source": [
        "df[\"decision_date\"]=pd.DataFrame(df[\"decision_date\"])"
      ],
      "metadata": {
        "id": "3SD5fSeZrahd"
      },
      "execution_count": null,
      "outputs": []
    },
    {
      "cell_type": "code",
      "source": [
        "df[\"decision_date\"]"
      ],
      "metadata": {
        "colab": {
          "base_uri": "https://localhost:8080/"
        },
        "id": "c0Jfg-3nrn4t",
        "outputId": "913e940b-689d-4ab2-f9fd-fdc10252286d"
      },
      "execution_count": null,
      "outputs": [
        {
          "output_type": "execute_result",
          "data": {
            "text/plain": [
              "0        2012-02-01\n",
              "1        2011-12-21\n",
              "2        2011-12-01\n",
              "3        2011-12-01\n",
              "4        2012-01-26\n",
              "            ...    \n",
              "14435    2011-12-07\n",
              "14437    2011-12-16\n",
              "14438    2011-12-13\n",
              "14439    2012-01-03\n",
              "14440    2011-11-30\n",
              "Name: decision_date, Length: 13973, dtype: object"
            ]
          },
          "metadata": {},
          "execution_count": 47
        }
      ]
    },
    {
      "cell_type": "code",
      "source": [
        "df[\"year\"]=df[\"decision_date\"].dt.year"
      ],
      "metadata": {
        "colab": {
          "base_uri": "https://localhost:8080/",
          "height": 297
        },
        "id": "GF7qw_DWrqMr",
        "outputId": "cfcbeee4-c823-4887-e8e7-1354a8930c52"
      },
      "execution_count": null,
      "outputs": [
        {
          "output_type": "error",
          "ename": "AttributeError",
          "evalue": "Can only use .dt accessor with datetimelike values",
          "traceback": [
            "\u001b[0;31m---------------------------------------------------------------------------\u001b[0m",
            "\u001b[0;31mAttributeError\u001b[0m                            Traceback (most recent call last)",
            "\u001b[0;32m<ipython-input-48-a80c518eeaaa>\u001b[0m in \u001b[0;36m<cell line: 1>\u001b[0;34m()\u001b[0m\n\u001b[0;32m----> 1\u001b[0;31m \u001b[0mdf\u001b[0m\u001b[0;34m[\u001b[0m\u001b[0;34m\"year\"\u001b[0m\u001b[0;34m]\u001b[0m\u001b[0;34m=\u001b[0m\u001b[0mdf\u001b[0m\u001b[0;34m[\u001b[0m\u001b[0;34m\"decision_date\"\u001b[0m\u001b[0;34m]\u001b[0m\u001b[0;34m.\u001b[0m\u001b[0mdt\u001b[0m\u001b[0;34m.\u001b[0m\u001b[0myear\u001b[0m\u001b[0;34m\u001b[0m\u001b[0;34m\u001b[0m\u001b[0m\n\u001b[0m",
            "\u001b[0;32m/usr/local/lib/python3.10/dist-packages/pandas/core/generic.py\u001b[0m in \u001b[0;36m__getattr__\u001b[0;34m(self, name)\u001b[0m\n\u001b[1;32m   5987\u001b[0m         ):\n\u001b[1;32m   5988\u001b[0m             \u001b[0;32mreturn\u001b[0m \u001b[0mself\u001b[0m\u001b[0;34m[\u001b[0m\u001b[0mname\u001b[0m\u001b[0;34m]\u001b[0m\u001b[0;34m\u001b[0m\u001b[0;34m\u001b[0m\u001b[0m\n\u001b[0;32m-> 5989\u001b[0;31m         \u001b[0;32mreturn\u001b[0m \u001b[0mobject\u001b[0m\u001b[0;34m.\u001b[0m\u001b[0m__getattribute__\u001b[0m\u001b[0;34m(\u001b[0m\u001b[0mself\u001b[0m\u001b[0;34m,\u001b[0m \u001b[0mname\u001b[0m\u001b[0;34m)\u001b[0m\u001b[0;34m\u001b[0m\u001b[0;34m\u001b[0m\u001b[0m\n\u001b[0m\u001b[1;32m   5990\u001b[0m \u001b[0;34m\u001b[0m\u001b[0m\n\u001b[1;32m   5991\u001b[0m     \u001b[0;32mdef\u001b[0m \u001b[0m__setattr__\u001b[0m\u001b[0;34m(\u001b[0m\u001b[0mself\u001b[0m\u001b[0;34m,\u001b[0m \u001b[0mname\u001b[0m\u001b[0;34m:\u001b[0m \u001b[0mstr\u001b[0m\u001b[0;34m,\u001b[0m \u001b[0mvalue\u001b[0m\u001b[0;34m)\u001b[0m \u001b[0;34m->\u001b[0m \u001b[0;32mNone\u001b[0m\u001b[0;34m:\u001b[0m\u001b[0;34m\u001b[0m\u001b[0;34m\u001b[0m\u001b[0m\n",
            "\u001b[0;32m/usr/local/lib/python3.10/dist-packages/pandas/core/accessor.py\u001b[0m in \u001b[0;36m__get__\u001b[0;34m(self, obj, cls)\u001b[0m\n\u001b[1;32m    222\u001b[0m             \u001b[0;31m# we're accessing the attribute of the class, i.e., Dataset.geo\u001b[0m\u001b[0;34m\u001b[0m\u001b[0;34m\u001b[0m\u001b[0m\n\u001b[1;32m    223\u001b[0m             \u001b[0;32mreturn\u001b[0m \u001b[0mself\u001b[0m\u001b[0;34m.\u001b[0m\u001b[0m_accessor\u001b[0m\u001b[0;34m\u001b[0m\u001b[0;34m\u001b[0m\u001b[0m\n\u001b[0;32m--> 224\u001b[0;31m         \u001b[0maccessor_obj\u001b[0m \u001b[0;34m=\u001b[0m \u001b[0mself\u001b[0m\u001b[0;34m.\u001b[0m\u001b[0m_accessor\u001b[0m\u001b[0;34m(\u001b[0m\u001b[0mobj\u001b[0m\u001b[0;34m)\u001b[0m\u001b[0;34m\u001b[0m\u001b[0;34m\u001b[0m\u001b[0m\n\u001b[0m\u001b[1;32m    225\u001b[0m         \u001b[0;31m# Replace the property with the accessor object. Inspired by:\u001b[0m\u001b[0;34m\u001b[0m\u001b[0;34m\u001b[0m\u001b[0m\n\u001b[1;32m    226\u001b[0m         \u001b[0;31m# https://www.pydanny.com/cached-property.html\u001b[0m\u001b[0;34m\u001b[0m\u001b[0;34m\u001b[0m\u001b[0m\n",
            "\u001b[0;32m/usr/local/lib/python3.10/dist-packages/pandas/core/indexes/accessors.py\u001b[0m in \u001b[0;36m__new__\u001b[0;34m(cls, data)\u001b[0m\n\u001b[1;32m    578\u001b[0m             \u001b[0;32mreturn\u001b[0m \u001b[0mPeriodProperties\u001b[0m\u001b[0;34m(\u001b[0m\u001b[0mdata\u001b[0m\u001b[0;34m,\u001b[0m \u001b[0morig\u001b[0m\u001b[0;34m)\u001b[0m\u001b[0;34m\u001b[0m\u001b[0;34m\u001b[0m\u001b[0m\n\u001b[1;32m    579\u001b[0m \u001b[0;34m\u001b[0m\u001b[0m\n\u001b[0;32m--> 580\u001b[0;31m         \u001b[0;32mraise\u001b[0m \u001b[0mAttributeError\u001b[0m\u001b[0;34m(\u001b[0m\u001b[0;34m\"Can only use .dt accessor with datetimelike values\"\u001b[0m\u001b[0;34m)\u001b[0m\u001b[0;34m\u001b[0m\u001b[0;34m\u001b[0m\u001b[0m\n\u001b[0m",
            "\u001b[0;31mAttributeError\u001b[0m: Can only use .dt accessor with datetimelike values"
          ]
        }
      ]
    },
    {
      "source": [
        "# Convert 'decision_date' to datetime objects if it's not already\n",
        "df[\"decision_date\"] = pd.to_datetime(df[\"decision_date\"])\n",
        "\n",
        "# Now you should be able to extract the year\n",
        "df[\"year\"] = df[\"decision_date\"].dt.year"
      ],
      "cell_type": "code",
      "metadata": {
        "id": "gDZNnMQJXyBq"
      },
      "execution_count": null,
      "outputs": []
    },
    {
      "source": [
        "import pandas as pd\n",
        "\n",
        "# Convert 'decision_date' to datetime\n",
        "df[\"decision_date\"] = pd.to_datetime(df[\"decision_date\"])  # Convert to datetime\n",
        "\n",
        "# Now you can extract the year\n",
        "df[\"year\"] = df[\"decision_date\"].dt.year"
      ],
      "cell_type": "code",
      "metadata": {
        "id": "9mn8IgZBr96D"
      },
      "execution_count": null,
      "outputs": []
    },
    {
      "cell_type": "code",
      "source": [
        "df[\"year\"]"
      ],
      "metadata": {
        "colab": {
          "base_uri": "https://localhost:8080/"
        },
        "id": "xTetbW9hrwLh",
        "outputId": "3da4d44c-a68d-41e7-c003-12748baa535a"
      },
      "execution_count": null,
      "outputs": [
        {
          "output_type": "execute_result",
          "data": {
            "text/plain": [
              "0        2012\n",
              "1        2011\n",
              "2        2011\n",
              "3        2011\n",
              "4        2012\n",
              "         ... \n",
              "14435    2011\n",
              "14437    2011\n",
              "14438    2011\n",
              "14439    2012\n",
              "14440    2011\n",
              "Name: year, Length: 13973, dtype: int32"
            ]
          },
          "metadata": {},
          "execution_count": 51
        }
      ]
    },
    {
      "cell_type": "code",
      "source": [
        "sns.countplot(x=\"year\",hue=\"case_status\",data=df)"
      ],
      "metadata": {
        "colab": {
          "base_uri": "https://localhost:8080/",
          "height": 467
        },
        "id": "thQN7AOFsCp4",
        "outputId": "23be8470-e6db-436f-fcaa-5bf6b73317d7"
      },
      "execution_count": null,
      "outputs": [
        {
          "output_type": "execute_result",
          "data": {
            "text/plain": [
              "<Axes: xlabel='year', ylabel='count'>"
            ]
          },
          "metadata": {},
          "execution_count": 52
        },
        {
          "output_type": "display_data",
          "data": {
            "text/plain": [
              "<Figure size 640x480 with 1 Axes>"
            ],
            "image/png": "[encoded data removed]"
          },
          "metadata": {}
        }
      ]
    },
    {
      "cell_type": "code",
      "source": [
        "df[\"employer_city\"].unique()"
      ],
      "metadata": {
        "colab": {
          "base_uri": "https://localhost:8080/"
        },
        "id": "lXv7H57esMcI",
        "outputId": "d0f35039-71cb-4b88-d327-d25e8e138bcc"
      },
      "execution_count": null,
      "outputs": [
        {
          "output_type": "execute_result",
          "data": {
            "text/plain": [
              "array(['NEW YORK', 'CARLSTADT', 'GLEN ALLEN', ..., 'LEVITTOWN',\n",
              "       'MARINETTE', 'FERGUS FALLS'], dtype=object)"
            ]
          },
          "metadata": {},
          "execution_count": 53
        }
      ]
    },
    {
      "cell_type": "code",
      "source": [
        "df[\"employer_city\"].shape"
      ],
      "metadata": {
        "colab": {
          "base_uri": "https://localhost:8080/"
        },
        "id": "7B2HrEfltTOQ",
        "outputId": "699e68f2-362a-4006-a410-f86c679dbb53"
      },
      "execution_count": null,
      "outputs": [
        {
          "output_type": "execute_result",
          "data": {
            "text/plain": [
              "(13973,)"
            ]
          },
          "metadata": {},
          "execution_count": 54
        }
      ]
    },
    {
      "cell_type": "code",
      "source": [
        "df[\"employer_city\"].value_counts()"
      ],
      "metadata": {
        "colab": {
          "base_uri": "https://localhost:8080/"
        },
        "id": "lyiHIY8stW5F",
        "outputId": "94af554b-d74d-4cdc-98fc-57b657d5f436"
      },
      "execution_count": null,
      "outputs": [
        {
          "output_type": "execute_result",
          "data": {
            "text/plain": [
              "employer_city\n",
              "NEW YORK           787\n",
              "HOUSTON            364\n",
              "REDMOND            265\n",
              "SAN DIEGO          258\n",
              "SUNNYVALE          252\n",
              "                  ... \n",
              "DUMONT               1\n",
              "NEPTUNE CITY         1\n",
              "GLOUCESTER CITY      1\n",
              "FORT WAYNE           1\n",
              "FERGUS FALLS         1\n",
              "Name: count, Length: 1827, dtype: int64"
            ]
          },
          "metadata": {},
          "execution_count": 55
        }
      ]
    },
    {
      "cell_type": "code",
      "source": [
        "df[\"emoloyer_city\"]=df[\"employer_city\"].str.upper()\n",
        "df[\"employer_city\"].value_counts()"
      ],
      "metadata": {
        "colab": {
          "base_uri": "https://localhost:8080/"
        },
        "id": "mzTuSpYqtbtF",
        "outputId": "75520613-079a-4687-8424-4832b16b22db"
      },
      "execution_count": null,
      "outputs": [
        {
          "output_type": "execute_result",
          "data": {
            "text/plain": [
              "employer_city\n",
              "NEW YORK           787\n",
              "HOUSTON            364\n",
              "REDMOND            265\n",
              "SAN DIEGO          258\n",
              "SUNNYVALE          252\n",
              "                  ... \n",
              "DUMONT               1\n",
              "NEPTUNE CITY         1\n",
              "GLOUCESTER CITY      1\n",
              "FORT WAYNE           1\n",
              "FERGUS FALLS         1\n",
              "Name: count, Length: 1827, dtype: int64"
            ]
          },
          "metadata": {},
          "execution_count": 56
        }
      ]
    },
    {
      "cell_type": "code",
      "source": [
        "sns.countplot(x=\"employer_city\",hue=\"year\",data=df,order=df.employer_city.value_counts().iloc[:10].index)"
      ],
      "metadata": {
        "id": "LmbCWF7nuyUD",
        "colab": {
          "base_uri": "https://localhost:8080/",
          "height": 469
        },
        "outputId": "b4b41ae5-13ed-49d0-bd5e-0bec9e9884ad"
      },
      "execution_count": null,
      "outputs": [
        {
          "output_type": "execute_result",
          "data": {
            "text/plain": [
              "<Axes: xlabel='employer_city', ylabel='count'>"
            ]
          },
          "metadata": {},
          "execution_count": 57
        },
        {
          "output_type": "display_data",
          "data": {
            "text/plain": [
              "<Figure size 640x480 with 1 Axes>"
            ],
            "image/png": "[encoded data removed]"
          },
          "metadata": {}
        }
      ]
    },
    {
      "cell_type": "code",
      "source": [],
      "metadata": {
        "id": "qgug1X2nWszz"
      },
      "execution_count": null,
      "outputs": []
    },
    {
      "cell_type": "code",
      "source": [
        "fix, ax = plt.subplots()\n",
        "fix.set_size_inches(13.7,8.29)\n",
        "sns.set_context(\"paper\", rc={\"font.size\": 12, \"axis.titlesize\": 12, \"axes.labelsize\": 15})\n",
        "sns.countplot(x=\"employer_city\", hue=\"year\", data=df, order=df.employer_city.value_counts().iloc[:10].index)\n",
        "plt.xticks(rotation=65)\n",
        "ax.set(xlabel=\"employer_city\",ylabel=\"number of visa application\")"
      ],
      "metadata": {
        "colab": {
          "base_uri": "https://localhost:8080/",
          "height": 851
        },
        "id": "yxb43yS8X4xD",
        "outputId": "0f7d31ef-98d8-4d18-e15a-d5d03eb03cd2"
      },
      "execution_count": null,
      "outputs": [
        {
          "output_type": "execute_result",
          "data": {
            "text/plain": [
              "[Text(0.5, 0, 'employer_city'), Text(0, 0.5, 'number of visa application')]"
            ]
          },
          "metadata": {},
          "execution_count": 60
        },
        {
          "output_type": "display_data",
          "data": {
            "text/plain": [
              "<Figure size 1370x829 with 1 Axes>"
            ],
            "image/png": "[encoded data removed]"
          },
          "metadata": {}
        }
      ]
    },
    {
      "cell_type": "code",
      "source": [
        "#top 10 employers by visa application\n",
        "top_emp=df['employer_name'].value_counts().head(10)\n",
        "top_emp.plot(kind=\"bar\",color=\"green\")\n",
        "for i,v in enumerate(top_emp):\n",
        "  plt.text(i,v+10,str(v),ha=\"center\",va=\"bottom\",fontsize=10)"
      ],
      "metadata": {
        "colab": {
          "base_uri": "https://localhost:8080/",
          "height": 733
        },
        "id": "FnynECy2Yj4o",
        "outputId": "6580cb4c-da27-479d-9cc4-ec8266b0180a"
      },
      "execution_count": null,
      "outputs": [
        {
          "output_type": "display_data",
          "data": {
            "text/plain": [
              "<Figure size 640x480 with 1 Axes>"
            ],
            "image/png": "[encoded data removed]"
          },
          "metadata": {}
        }
      ]
    },
    {
      "cell_type": "code",
      "source": [
        "fix,ax=subplot()\n",
        "fig.set_size_inches(13.7,18.3)\n",
        "sns.set_context(\"paper\",rc={\"font.size:12,axes.titlesiz\":12,\"axes.labelsize\":15})\n",
        "sns.countplot(x=\"employer_city\",hue=\"year\",data=df,order=df.employer_city.value_counts().iloc[:10].index)"
      ],
      "metadata": {
        "colab": {
          "base_uri": "https://localhost:8080/",
          "height": 257
        },
        "id": "O2b6SwdBbcmh",
        "outputId": "efb67e8f-76a7-4011-c415-ce22fe17ba4b"
      },
      "execution_count": null,
      "outputs": [
        {
          "output_type": "error",
          "ename": "NameError",
          "evalue": "name 'subplot' is not defined",
          "traceback": [
            "\u001b[0;31m---------------------------------------------------------------------------\u001b[0m",
            "\u001b[0;31mNameError\u001b[0m                                 Traceback (most recent call last)",
            "\u001b[0;32m<ipython-input-64-9e263e0e9a75>\u001b[0m in \u001b[0;36m<cell line: 1>\u001b[0;34m()\u001b[0m\n\u001b[0;32m----> 1\u001b[0;31m \u001b[0mfix\u001b[0m\u001b[0;34m,\u001b[0m\u001b[0max\u001b[0m\u001b[0;34m=\u001b[0m\u001b[0msubplot\u001b[0m\u001b[0;34m(\u001b[0m\u001b[0;34m)\u001b[0m\u001b[0;34m\u001b[0m\u001b[0;34m\u001b[0m\u001b[0m\n\u001b[0m\u001b[1;32m      2\u001b[0m \u001b[0mfig\u001b[0m\u001b[0;34m.\u001b[0m\u001b[0mset_size_inches\u001b[0m\u001b[0;34m(\u001b[0m\u001b[0;36m13.7\u001b[0m\u001b[0;34m,\u001b[0m\u001b[0;36m18.3\u001b[0m\u001b[0;34m)\u001b[0m\u001b[0;34m\u001b[0m\u001b[0;34m\u001b[0m\u001b[0m\n\u001b[1;32m      3\u001b[0m \u001b[0msns\u001b[0m\u001b[0;34m.\u001b[0m\u001b[0mset_context\u001b[0m\u001b[0;34m(\u001b[0m\u001b[0;34m\"paper\"\u001b[0m\u001b[0;34m,\u001b[0m\u001b[0mrc\u001b[0m\u001b[0;34m=\u001b[0m\u001b[0;34m{\u001b[0m\u001b[0;34m\"font.size:12,axes.titlesiz\"\u001b[0m\u001b[0;34m:\u001b[0m\u001b[0;36m12\u001b[0m\u001b[0;34m,\u001b[0m\u001b[0;34m\"axes.labelsize\"\u001b[0m\u001b[0;34m:\u001b[0m\u001b[0;36m15\u001b[0m\u001b[0;34m}\u001b[0m\u001b[0;34m)\u001b[0m\u001b[0;34m\u001b[0m\u001b[0;34m\u001b[0m\u001b[0m\n\u001b[1;32m      4\u001b[0m \u001b[0msns\u001b[0m\u001b[0;34m.\u001b[0m\u001b[0mcountplot\u001b[0m\u001b[0;34m(\u001b[0m\u001b[0mx\u001b[0m\u001b[0;34m=\u001b[0m\u001b[0;34m\"employer_city\"\u001b[0m\u001b[0;34m,\u001b[0m\u001b[0mhue\u001b[0m\u001b[0;34m=\u001b[0m\u001b[0;34m\"year\"\u001b[0m\u001b[0;34m,\u001b[0m\u001b[0mdata\u001b[0m\u001b[0;34m=\u001b[0m\u001b[0mdf\u001b[0m\u001b[0;34m,\u001b[0m\u001b[0morder\u001b[0m\u001b[0;34m=\u001b[0m\u001b[0mdf\u001b[0m\u001b[0;34m.\u001b[0m\u001b[0memployer_city\u001b[0m\u001b[0;34m.\u001b[0m\u001b[0mvalue_counts\u001b[0m\u001b[0;34m(\u001b[0m\u001b[0;34m)\u001b[0m\u001b[0;34m.\u001b[0m\u001b[0miloc\u001b[0m\u001b[0;34m[\u001b[0m\u001b[0;34m:\u001b[0m\u001b[0;36m10\u001b[0m\u001b[0;34m]\u001b[0m\u001b[0;34m.\u001b[0m\u001b[0mindex\u001b[0m\u001b[0;34m)\u001b[0m\u001b[0;34m\u001b[0m\u001b[0;34m\u001b[0m\u001b[0m\n",
            "\u001b[0;31mNameError\u001b[0m: name 'subplot' is not defined"
          ]
        }
      ]
    },
    {
      "cell_type": "code",
      "source": [
        "df[\"us_economic_sector\"]"
      ],
      "metadata": {
        "colab": {
          "base_uri": "https://localhost:8080/"
        },
        "id": "jg4xo8oGf4ZP",
        "outputId": "0c0596fb-7146-4a01-c816-c426884965a0"
      },
      "execution_count": null,
      "outputs": [
        {
          "output_type": "execute_result",
          "data": {
            "text/plain": [
              "0                           IT\n",
              "1        Other Economic Sector\n",
              "2                    Aerospace\n",
              "3        Other Economic Sector\n",
              "4                 Advanced Mfg\n",
              "                 ...          \n",
              "14435              Health Care\n",
              "14437                  Finance\n",
              "14438                       IT\n",
              "14439              Health Care\n",
              "14440     Educational Services\n",
              "Name: us_economic_sector, Length: 13973, dtype: object"
            ]
          },
          "metadata": {},
          "execution_count": 65
        }
      ]
    },
    {
      "cell_type": "code",
      "source": [
        "us_economic_counts={}\n",
        "for value in df[ 'us_economic_sector'].dropna():\n",
        "  if value  in us_economic_counts:\n",
        "    us_economic_counts[value]+=1\n",
        "\n",
        "  else:\n",
        "      us_economic_counts[value]=1"
      ],
      "metadata": {
        "id": "RCK9WuX0hm1e"
      },
      "execution_count": null,
      "outputs": []
    },
    {
      "cell_type": "code",
      "source": [
        "us_economic_counts"
      ],
      "metadata": {
        "colab": {
          "base_uri": "https://localhost:8080/"
        },
        "id": "tVY9chpFiZUW",
        "outputId": "b78e6c9e-a081-4fd0-85b9-81081a013d34"
      },
      "execution_count": null,
      "outputs": [
        {
          "output_type": "execute_result",
          "data": {
            "text/plain": [
              "{'IT': 4831,\n",
              " 'Other Economic Sector': 2048,\n",
              " 'Aerospace': 434,\n",
              " 'Advanced Mfg': 1879,\n",
              " 'Educational Services': 1000,\n",
              " 'Retail': 458,\n",
              " 'Construction': 269,\n",
              " 'Hospitality': 399,\n",
              " 'Automotive': 139,\n",
              " 'Health Care': 796,\n",
              " 'Agribusiness': 71,\n",
              " 'Finance': 951,\n",
              " 'Energy': 130,\n",
              " 'Transportation': 131,\n",
              " 'Homeland Security': 8,\n",
              " 'Biotechnology': 43,\n",
              " 'Geospatial': 11}"
            ]
          },
          "metadata": {},
          "execution_count": 71
        }
      ]
    },
    {
      "cell_type": "code",
      "source": [
        "usecollabels=[]\n",
        "usecolvalues=[]\n",
        "explode=(0.035,0,0,0,0,0,0,0,0,0)\n",
        "for key,value in us_economic_counts.items():\n",
        "  usecollabels.append(key)\n",
        "  usecolvalues.append(value)"
      ],
      "metadata": {
        "id": "vb9HFQSmjdx-"
      },
      "execution_count": null,
      "outputs": []
    },
    {
      "cell_type": "code",
      "source": [
        "usecolvalues"
      ],
      "metadata": {
        "colab": {
          "base_uri": "https://localhost:8080/"
        },
        "id": "6ujLFYF7j9hw",
        "outputId": "29c1427f-6bc8-4b53-a228-f67be9176b24"
      },
      "execution_count": null,
      "outputs": [
        {
          "output_type": "execute_result",
          "data": {
            "text/plain": [
              "[4831,\n",
              " 2048,\n",
              " 434,\n",
              " 1879,\n",
              " 1000,\n",
              " 458,\n",
              " 269,\n",
              " 399,\n",
              " 139,\n",
              " 796,\n",
              " 71,\n",
              " 951,\n",
              " 130,\n",
              " 131,\n",
              " 8,\n",
              " 43,\n",
              " 11]"
            ]
          },
          "metadata": {},
          "execution_count": 76
        }
      ]
    },
    {
      "cell_type": "code",
      "source": [
        "usecollabels\n"
      ],
      "metadata": {
        "colab": {
          "base_uri": "https://localhost:8080/"
        },
        "id": "yjvRvotZl3YC",
        "outputId": "447f9040-ef91-4bb3-f4a3-9cc4509157b6"
      },
      "execution_count": null,
      "outputs": [
        {
          "output_type": "execute_result",
          "data": {
            "text/plain": [
              "['IT',\n",
              " 'Other Economic Sector',\n",
              " 'Aerospace',\n",
              " 'Advanced Mfg',\n",
              " 'Educational Services',\n",
              " 'Retail',\n",
              " 'Construction',\n",
              " 'Hospitality',\n",
              " 'Automotive',\n",
              " 'Health Care',\n",
              " 'Agribusiness',\n",
              " 'Finance',\n",
              " 'Energy',\n",
              " 'Transportation',\n",
              " 'Homeland Security',\n",
              " 'Biotechnology',\n",
              " 'Geospatial']"
            ]
          },
          "metadata": {},
          "execution_count": 77
        }
      ]
    },
    {
      "cell_type": "code",
      "source": [
        "plt.figure(figsize=(13,13))\n",
        "plt.pie(usecolvalues[:10],labels=usecollabels[:10],explode=explode,autopct=\"%1.1f%%\")\n",
        "plt.show()\n",
        "\n"
      ],
      "metadata": {
        "colab": {
          "base_uri": "https://localhost:8080/",
          "height": 600
        },
        "id": "YmdO-5VOl7Bt",
        "outputId": "8506150b-5b19-490f-a24f-a4b7f8233b9e"
      },
      "execution_count": null,
      "outputs": [
        {
          "output_type": "display_data",
          "data": {
            "text/plain": [
              "<Figure size 1300x1300 with 1 Axes>"
            ],
            "image/png": "[encoded data removed]"
          },
          "metadata": {}
        }
      ]
    },
    {
      "cell_type": "code",
      "source": [
        "import matplotlib.pyplot as plt\n",
        "import seaborn as sns\n",
        "\n",
        "# Setting plot parameters\n",
        "plt.figure(figsize=(10.7, 7.27))\n",
        "\n",
        "# Creating the count plot\n",
        "sns.countplot(x='application_type', data=df, palette='GnBu_d', order=df['application_type'].value_counts().index[:10])\n",
        "\n",
        "# Iterating over elements in \"application_type\" column and displaying counts above bars\n",
        "for i, v in enumerate(df['application_type'].value_counts().head(10)):\n",
        "    plt.text(i, v, str(v), ha='center', va='bottom')\n",
        "\n",
        "# Setting labels\n",
        "plt.xlabel('Application type')\n",
        "plt.ylabel('Number of Visa applications')\n",
        "plt.show()\n"
      ],
      "metadata": {
        "colab": {
          "base_uri": "https://localhost:8080/",
          "height": 445
        },
        "id": "wCgVUwtXnTvF",
        "outputId": "200a3672-3e8d-4d92-a8b3-498f78fe10e0"
      },
      "execution_count": null,
      "outputs": [
        {
          "output_type": "display_data",
          "data": {
            "text/plain": [
              "<Figure size 1070x727 with 1 Axes>"
            ],
            "image/png": "[encoded data removed]"
          },
          "metadata": {}
        }
      ]
    },
    {
      "cell_type": "code",
      "source": [
        "import matplotlib.pyplot as plt\n",
        "import seaborn as sns\n",
        "\n",
        "# Setting plot parameters\n",
        "plt.figure(figsize=(10.7, 7.27))\n",
        "\n",
        "# Creating the count plot\n",
        "sns.countplot(x='application_type', data=df, palette='GnBu_d', order=df['application_type'].value_counts().index[:10])\n",
        "\n",
        "# Iterating over elements in \"application_type\" column and displaying counts above bars\n",
        "for i, v in enumerate(df['application_type'].value_counts().head(10)):\n",
        "    plt.text(i, v, str(v), ha='center', va='bottom')\n",
        "\n",
        "# Setting labels\n",
        "plt.xlabel('Application type')\n",
        "plt.ylabel('Number of Visa applications')\n",
        "plt.show()\n"
      ],
      "metadata": {
        "colab": {
          "base_uri": "https://localhost:8080/",
          "height": 445
        },
        "id": "DA5d0pAEtQwG",
        "outputId": "3fd8c22e-aaa3-4dd7-9e66-9d4f6bde2ece"
      },
      "execution_count": null,
      "outputs": [
        {
          "output_type": "display_data",
          "data": {
            "text/plain": [
              "<Figure size 1070x727 with 1 Axes>"
            ],
            "image/png": "[encoded data removed]"
          },
          "metadata": {}
        }
      ]
    },
    {
      "cell_type": "code",
      "source": [
        "df['pw_job_title_'].value_counts()[:20]"
      ],
      "metadata": {
        "colab": {
          "base_uri": "https://localhost:8080/",
          "height": 878
        },
        "id": "qxo6P_Dhta-k",
        "outputId": "451478a2-ba64-4bc4-803e-0e68c3cb32c6"
      },
      "execution_count": null,
      "outputs": [
        {
          "output_type": "error",
          "ename": "KeyError",
          "evalue": "'pw_job_title_'",
          "traceback": [
            "\u001b[0;31m---------------------------------------------------------------------------\u001b[0m",
            "\u001b[0;31mKeyError\u001b[0m                                  Traceback (most recent call last)",
            "\u001b[0;32m/usr/local/lib/python3.10/dist-packages/pandas/core/indexes/base.py\u001b[0m in \u001b[0;36mget_loc\u001b[0;34m(self, key)\u001b[0m\n\u001b[1;32m   3652\u001b[0m         \u001b[0;32mtry\u001b[0m\u001b[0;34m:\u001b[0m\u001b[0;34m\u001b[0m\u001b[0;34m\u001b[0m\u001b[0m\n\u001b[0;32m-> 3653\u001b[0;31m             \u001b[0;32mreturn\u001b[0m \u001b[0mself\u001b[0m\u001b[0;34m.\u001b[0m\u001b[0m_engine\u001b[0m\u001b[0;34m.\u001b[0m\u001b[0mget_loc\u001b[0m\u001b[0;34m(\u001b[0m\u001b[0mcasted_key\u001b[0m\u001b[0;34m)\u001b[0m\u001b[0;34m\u001b[0m\u001b[0;34m\u001b[0m\u001b[0m\n\u001b[0m\u001b[1;32m   3654\u001b[0m         \u001b[0;32mexcept\u001b[0m \u001b[0mKeyError\u001b[0m \u001b[0;32mas\u001b[0m \u001b[0merr\u001b[0m\u001b[0;34m:\u001b[0m\u001b[0;34m\u001b[0m\u001b[0;34m\u001b[0m\u001b[0m\n",
            "\u001b[0;32m/usr/local/lib/python3.10/dist-packages/pandas/_libs/index.pyx\u001b[0m in \u001b[0;36mpandas._libs.index.IndexEngine.get_loc\u001b[0;34m()\u001b[0m\n",
            "\u001b[0;32m/usr/local/lib/python3.10/dist-packages/pandas/_libs/index.pyx\u001b[0m in \u001b[0;36mpandas._libs.index.IndexEngine.get_loc\u001b[0;34m()\u001b[0m\n",
            "\u001b[0;32mpandas/_libs/hashtable_class_helper.pxi\u001b[0m in \u001b[0;36mpandas._libs.hashtable.PyObjectHashTable.get_item\u001b[0;34m()\u001b[0m\n",
            "\u001b[0;32mpandas/_libs/hashtable_class_helper.pxi\u001b[0m in \u001b[0;36mpandas._libs.hashtable.PyObjectHashTable.get_item\u001b[0;34m()\u001b[0m\n",
            "\u001b[0;31mKeyError\u001b[0m: 'pw_job_title_'",
            "\nThe above exception was the direct cause of the following exception:\n",
            "\u001b[0;31mKeyError\u001b[0m                                  Traceback (most recent call last)",
            "\u001b[0;32m<ipython-input-97-7ef4f7052298>\u001b[0m in \u001b[0;36m<cell line: 1>\u001b[0;34m()\u001b[0m\n\u001b[0;32m----> 1\u001b[0;31m \u001b[0mdf\u001b[0m\u001b[0;34m[\u001b[0m\u001b[0;34m'pw_job_title_'\u001b[0m\u001b[0;34m]\u001b[0m\u001b[0;34m.\u001b[0m\u001b[0mvalue_counts\u001b[0m\u001b[0;34m(\u001b[0m\u001b[0;34m)\u001b[0m\u001b[0;34m[\u001b[0m\u001b[0;34m:\u001b[0m\u001b[0;36m20\u001b[0m\u001b[0;34m]\u001b[0m\u001b[0;34m\u001b[0m\u001b[0;34m\u001b[0m\u001b[0m\n\u001b[0m",
            "\u001b[0;32m/usr/local/lib/python3.10/dist-packages/pandas/core/frame.py\u001b[0m in \u001b[0;36m__getitem__\u001b[0;34m(self, key)\u001b[0m\n\u001b[1;32m   3759\u001b[0m             \u001b[0;32mif\u001b[0m \u001b[0mself\u001b[0m\u001b[0;34m.\u001b[0m\u001b[0mcolumns\u001b[0m\u001b[0;34m.\u001b[0m\u001b[0mnlevels\u001b[0m \u001b[0;34m>\u001b[0m \u001b[0;36m1\u001b[0m\u001b[0;34m:\u001b[0m\u001b[0;34m\u001b[0m\u001b[0;34m\u001b[0m\u001b[0m\n\u001b[1;32m   3760\u001b[0m                 \u001b[0;32mreturn\u001b[0m \u001b[0mself\u001b[0m\u001b[0;34m.\u001b[0m\u001b[0m_getitem_multilevel\u001b[0m\u001b[0;34m(\u001b[0m\u001b[0mkey\u001b[0m\u001b[0;34m)\u001b[0m\u001b[0;34m\u001b[0m\u001b[0;34m\u001b[0m\u001b[0m\n\u001b[0;32m-> 3761\u001b[0;31m             \u001b[0mindexer\u001b[0m \u001b[0;34m=\u001b[0m \u001b[0mself\u001b[0m\u001b[0;34m.\u001b[0m\u001b[0mcolumns\u001b[0m\u001b[0;34m.\u001b[0m\u001b[0mget_loc\u001b[0m\u001b[0;34m(\u001b[0m\u001b[0mkey\u001b[0m\u001b[0;34m)\u001b[0m\u001b[0;34m\u001b[0m\u001b[0;34m\u001b[0m\u001b[0m\n\u001b[0m\u001b[1;32m   3762\u001b[0m             \u001b[0;32mif\u001b[0m \u001b[0mis_integer\u001b[0m\u001b[0;34m(\u001b[0m\u001b[0mindexer\u001b[0m\u001b[0;34m)\u001b[0m\u001b[0;34m:\u001b[0m\u001b[0;34m\u001b[0m\u001b[0;34m\u001b[0m\u001b[0m\n\u001b[1;32m   3763\u001b[0m                 \u001b[0mindexer\u001b[0m \u001b[0;34m=\u001b[0m \u001b[0;34m[\u001b[0m\u001b[0mindexer\u001b[0m\u001b[0;34m]\u001b[0m\u001b[0;34m\u001b[0m\u001b[0;34m\u001b[0m\u001b[0m\n",
            "\u001b[0;32m/usr/local/lib/python3.10/dist-packages/pandas/core/indexes/base.py\u001b[0m in \u001b[0;36mget_loc\u001b[0;34m(self, key)\u001b[0m\n\u001b[1;32m   3653\u001b[0m             \u001b[0;32mreturn\u001b[0m \u001b[0mself\u001b[0m\u001b[0;34m.\u001b[0m\u001b[0m_engine\u001b[0m\u001b[0;34m.\u001b[0m\u001b[0mget_loc\u001b[0m\u001b[0;34m(\u001b[0m\u001b[0mcasted_key\u001b[0m\u001b[0;34m)\u001b[0m\u001b[0;34m\u001b[0m\u001b[0;34m\u001b[0m\u001b[0m\n\u001b[1;32m   3654\u001b[0m         \u001b[0;32mexcept\u001b[0m \u001b[0mKeyError\u001b[0m \u001b[0;32mas\u001b[0m \u001b[0merr\u001b[0m\u001b[0;34m:\u001b[0m\u001b[0;34m\u001b[0m\u001b[0;34m\u001b[0m\u001b[0m\n\u001b[0;32m-> 3655\u001b[0;31m             \u001b[0;32mraise\u001b[0m \u001b[0mKeyError\u001b[0m\u001b[0;34m(\u001b[0m\u001b[0mkey\u001b[0m\u001b[0;34m)\u001b[0m \u001b[0;32mfrom\u001b[0m \u001b[0merr\u001b[0m\u001b[0;34m\u001b[0m\u001b[0;34m\u001b[0m\u001b[0m\n\u001b[0m\u001b[1;32m   3656\u001b[0m         \u001b[0;32mexcept\u001b[0m \u001b[0mTypeError\u001b[0m\u001b[0;34m:\u001b[0m\u001b[0;34m\u001b[0m\u001b[0;34m\u001b[0m\u001b[0m\n\u001b[1;32m   3657\u001b[0m             \u001b[0;31m# If we have a listlike key, _check_indexing_error will raise\u001b[0m\u001b[0;34m\u001b[0m\u001b[0;34m\u001b[0m\u001b[0m\n",
            "\u001b[0;31mKeyError\u001b[0m: 'pw_job_title_'"
          ]
        }
      ]
    },
    {
      "cell_type": "code",
      "source": [
        "df.columns"
      ],
      "metadata": {
        "colab": {
          "base_uri": "https://localhost:8080/"
        },
        "id": "hFjsU2yBtrHF",
        "outputId": "a185d054-9b19-47c8-8134-2ee41e9431f5"
      },
      "execution_count": null,
      "outputs": [
        {
          "output_type": "execute_result",
          "data": {
            "text/plain": [
              "Index(['application_type', 'case_no', 'case_status', 'class_of_admission',\n",
              "       'country_of_citzenship', 'decision_date', 'employer_address_1',\n",
              "       'employer_address_2', 'employer_city', 'employer_name',\n",
              "       'employer_postal_code', 'employer_state', 'job_info_work_city',\n",
              "       'job_info_work_state', 'naics_2007_us_code', 'naics_2007_us_title',\n",
              "       'pw_amount_9089', 'pw_job_title_9089', 'pw_level_9089', 'pw_soc_code',\n",
              "       'pw_soc_title', 'pw_source_name_9089', 'pw_unit_of_pay_9089',\n",
              "       'us_economic_sector', 'wage_offer_from_9089', 'wage_offer_to_9089',\n",
              "       'wage_offer_unit_of_pay_9089', 'emoloyer_city', 'year'],\n",
              "      dtype='object')"
            ]
          },
          "metadata": {},
          "execution_count": 93
        }
      ]
    },
    {
      "cell_type": "code",
      "source": [
        "#Displaying percentage of non-null values for each feature\n",
        "i = 0;\n",
        "for col in df.columns:\n",
        "    i = i+1;\n",
        "    print (i-1,\"Column: '{}'\".format(col),\"contains \", np.round(100*df[col].count()/len(df['case_status']),decimals=2),\"% non-null values\" )"
      ],
      "metadata": {
        "colab": {
          "base_uri": "https://localhost:8080/"
        },
        "id": "5T6brEV1LocX",
        "outputId": "714c7fcc-69d6-4240-a12d-87263e4690dd"
      },
      "execution_count": null,
      "outputs": [
        {
          "output_type": "stream",
          "name": "stdout",
          "text": [
            "0 Column: 'add_these_pw_job_title_9089' contains  0.0 % non-null values\n",
            "1 Column: 'agent_city' contains  0.0 % non-null values\n",
            "2 Column: 'agent_firm_name' contains  0.0 % non-null values\n",
            "3 Column: 'agent_state' contains  0.0 % non-null values\n",
            "4 Column: 'application_type' contains  100.0 % non-null values\n",
            "5 Column: 'case_no' contains  100.0 % non-null values\n",
            "6 Column: 'case_number' contains  0.0 % non-null values\n",
            "7 Column: 'case_received_date' contains  0.0 % non-null values\n",
            "8 Column: 'case_status' contains  100.0 % non-null values\n",
            "9 Column: 'class_of_admission' contains  94.18 % non-null values\n",
            "10 Column: 'country_of_citizenship' contains  0.0 % non-null values\n",
            "11 Column: 'country_of_citzenship' contains  99.99 % non-null values\n",
            "12 Column: 'decision_date' contains  100.0 % non-null values\n",
            "13 Column: 'employer_address_1' contains  99.99 % non-null values\n",
            "14 Column: 'employer_address_2' contains  32.37 % non-null values\n",
            "15 Column: 'employer_city' contains  99.98 % non-null values\n",
            "16 Column: 'employer_country' contains  0.0 % non-null values\n",
            "17 Column: 'employer_decl_info_title' contains  0.0 % non-null values\n",
            "18 Column: 'employer_name' contains  99.98 % non-null values\n",
            "19 Column: 'employer_num_employees' contains  0.0 % non-null values\n",
            "20 Column: 'employer_phone' contains  0.0 % non-null values\n",
            "21 Column: 'employer_phone_ext' contains  0.0 % non-null values\n",
            "22 Column: 'employer_postal_code' contains  99.96 % non-null values\n",
            "23 Column: 'employer_state' contains  99.98 % non-null values\n",
            "24 Column: 'employer_yr_estab' contains  0.0 % non-null values\n",
            "25 Column: 'foreign_worker_info_alt_edu_experience' contains  0.0 % non-null values\n",
            "26 Column: 'foreign_worker_info_birth_country' contains  0.0 % non-null values\n",
            "27 Column: 'foreign_worker_info_city' contains  0.0 % non-null values\n",
            "28 Column: 'foreign_worker_info_education' contains  0.0 % non-null values\n",
            "29 Column: 'foreign_worker_info_education_other' contains  0.0 % non-null values\n",
            "30 Column: 'foreign_worker_info_inst' contains  0.0 % non-null values\n",
            "31 Column: 'foreign_worker_info_major' contains  0.0 % non-null values\n",
            "32 Column: 'foreign_worker_info_postal_code' contains  0.0 % non-null values\n",
            "33 Column: 'foreign_worker_info_rel_occup_exp' contains  0.0 % non-null values\n",
            "34 Column: 'foreign_worker_info_req_experience' contains  0.0 % non-null values\n",
            "35 Column: 'foreign_worker_info_state' contains  0.0 % non-null values\n",
            "36 Column: 'foreign_worker_info_training_comp' contains  0.0 % non-null values\n",
            "37 Column: 'foreign_worker_ownership_interest' contains  0.0 % non-null values\n",
            "38 Column: 'foreign_worker_yr_rel_edu_completed' contains  0.0 % non-null values\n",
            "39 Column: 'fw_info_alt_edu_experience' contains  0.0 % non-null values\n",
            "40 Column: 'fw_info_birth_country' contains  0.0 % non-null values\n",
            "41 Column: 'fw_info_education_other' contains  0.0 % non-null values\n",
            "42 Column: 'fw_info_postal_code' contains  0.0 % non-null values\n",
            "43 Column: 'fw_info_rel_occup_exp' contains  0.0 % non-null values\n",
            "44 Column: 'fw_info_req_experience' contains  0.0 % non-null values\n",
            "45 Column: 'fw_info_training_comp' contains  0.0 % non-null values\n",
            "46 Column: 'fw_info_yr_rel_edu_completed' contains  0.0 % non-null values\n",
            "47 Column: 'fw_ownership_interest' contains  0.0 % non-null values\n",
            "48 Column: 'ji_foreign_worker_live_on_premises' contains  0.0 % non-null values\n",
            "49 Column: 'ji_fw_live_on_premises' contains  0.0 % non-null values\n",
            "50 Column: 'ji_live_in_dom_svc_contract' contains  0.0 % non-null values\n",
            "51 Column: 'ji_live_in_domestic_service' contains  0.0 % non-null values\n",
            "52 Column: 'ji_offered_to_sec_j_foreign_worker' contains  0.0 % non-null values\n",
            "53 Column: 'ji_offered_to_sec_j_fw' contains  0.0 % non-null values\n",
            "54 Column: 'job_info_alt_cmb_ed_oth_yrs' contains  0.0 % non-null values\n",
            "55 Column: 'job_info_alt_combo_ed' contains  0.0 % non-null values\n",
            "56 Column: 'job_info_alt_combo_ed_exp' contains  0.0 % non-null values\n",
            "57 Column: 'job_info_alt_combo_ed_other' contains  0.0 % non-null values\n",
            "58 Column: 'job_info_alt_field' contains  0.0 % non-null values\n",
            "59 Column: 'job_info_alt_field_name' contains  0.0 % non-null values\n",
            "60 Column: 'job_info_alt_occ' contains  0.0 % non-null values\n",
            "61 Column: 'job_info_alt_occ_job_title' contains  0.0 % non-null values\n",
            "62 Column: 'job_info_alt_occ_num_months' contains  0.0 % non-null values\n",
            "63 Column: 'job_info_combo_occupation' contains  0.0 % non-null values\n",
            "64 Column: 'job_info_education' contains  0.0 % non-null values\n",
            "65 Column: 'job_info_education_other' contains  0.0 % non-null values\n",
            "66 Column: 'job_info_experience' contains  0.0 % non-null values\n",
            "67 Column: 'job_info_experience_num_months' contains  0.0 % non-null values\n",
            "68 Column: 'job_info_foreign_ed' contains  0.0 % non-null values\n",
            "69 Column: 'job_info_foreign_lang_req' contains  0.0 % non-null values\n",
            "70 Column: 'job_info_job_req_normal' contains  0.0 % non-null values\n",
            "71 Column: 'job_info_job_title' contains  0.0 % non-null values\n",
            "72 Column: 'job_info_major' contains  0.0 % non-null values\n",
            "73 Column: 'job_info_training' contains  0.0 % non-null values\n",
            "74 Column: 'job_info_training_field' contains  0.0 % non-null values\n",
            "75 Column: 'job_info_training_num_months' contains  0.0 % non-null values\n",
            "76 Column: 'job_info_work_city' contains  99.97 % non-null values\n",
            "77 Column: 'job_info_work_postal_code' contains  0.0 % non-null values\n",
            "78 Column: 'job_info_work_state' contains  99.97 % non-null values\n",
            "79 Column: 'naics_2007_us_code' contains  99.8 % non-null values\n",
            "80 Column: 'naics_2007_us_title' contains  96.78 % non-null values\n",
            "81 Column: 'naics_code' contains  0.0 % non-null values\n",
            "82 Column: 'naics_title' contains  0.0 % non-null values\n",
            "83 Column: 'naics_us_code' contains  0.0 % non-null values\n",
            "84 Column: 'naics_us_code_2007' contains  0.0 % non-null values\n",
            "85 Column: 'naics_us_title' contains  0.0 % non-null values\n",
            "86 Column: 'naics_us_title_2007' contains  0.0 % non-null values\n",
            "87 Column: 'orig_case_no' contains  0.0 % non-null values\n",
            "88 Column: 'orig_file_date' contains  0.0 % non-null values\n",
            "89 Column: 'preparer_info_emp_completed' contains  0.0 % non-null values\n",
            "90 Column: 'preparer_info_title' contains  0.0 % non-null values\n",
            "91 Column: 'pw_amount_9089' contains  99.8 % non-null values\n",
            "92 Column: 'pw_determ_date' contains  0.0 % non-null values\n",
            "93 Column: 'pw_expire_date' contains  0.0 % non-null values\n",
            "94 Column: 'pw_job_title_908' contains  0.0 % non-null values\n",
            "95 Column: 'pw_job_title_9089' contains  99.8 % non-null values\n",
            "96 Column: 'pw_level_9089' contains  95.42 % non-null values\n",
            "97 Column: 'pw_soc_code' contains  99.89 % non-null values\n",
            "98 Column: 'pw_soc_title' contains  99.89 % non-null values\n",
            "99 Column: 'pw_source_name_9089' contains  99.95 % non-null values\n",
            "100 Column: 'pw_source_name_other_9089' contains  0.0 % non-null values\n",
            "101 Column: 'pw_track_num' contains  0.0 % non-null values\n",
            "102 Column: 'pw_unit_of_pay_9089' contains  99.8 % non-null values\n",
            "103 Column: 'rec_info_barg_rep_notified' contains  0.0 % non-null values\n",
            "104 Column: 'recr_info_barg_rep_notified' contains  0.0 % non-null values\n",
            "105 Column: 'recr_info_coll_teach_comp_proc' contains  0.0 % non-null values\n",
            "106 Column: 'recr_info_coll_univ_teacher' contains  0.0 % non-null values\n",
            "107 Column: 'recr_info_employer_rec_payment' contains  0.0 % non-null values\n",
            "108 Column: 'recr_info_first_ad_start' contains  0.0 % non-null values\n",
            "109 Column: 'recr_info_job_fair_from' contains  0.0 % non-null values\n",
            "110 Column: 'recr_info_job_fair_to' contains  0.0 % non-null values\n",
            "111 Column: 'recr_info_on_campus_recr_from' contains  0.0 % non-null values\n",
            "112 Column: 'recr_info_on_campus_recr_to' contains  0.0 % non-null values\n",
            "113 Column: 'recr_info_pro_org_advert_from' contains  0.0 % non-null values\n",
            "114 Column: 'recr_info_pro_org_advert_to' contains  0.0 % non-null values\n",
            "115 Column: 'recr_info_prof_org_advert_from' contains  0.0 % non-null values\n",
            "116 Column: 'recr_info_prof_org_advert_to' contains  0.0 % non-null values\n",
            "117 Column: 'recr_info_professional_occ' contains  0.0 % non-null values\n",
            "118 Column: 'recr_info_radio_tv_ad_from' contains  0.0 % non-null values\n",
            "119 Column: 'recr_info_radio_tv_ad_to' contains  0.0 % non-null values\n",
            "120 Column: 'recr_info_second_ad_start' contains  0.0 % non-null values\n",
            "121 Column: 'recr_info_sunday_newspaper' contains  0.0 % non-null values\n",
            "122 Column: 'recr_info_swa_job_order_end' contains  0.0 % non-null values\n",
            "123 Column: 'recr_info_swa_job_order_start' contains  0.0 % non-null values\n",
            "124 Column: 'refile' contains  0.0 % non-null values\n",
            "125 Column: 'ri_1st_ad_newspaper_name' contains  0.0 % non-null values\n",
            "126 Column: 'ri_2nd_ad_newspaper_name' contains  0.0 % non-null values\n",
            "127 Column: 'ri_2nd_ad_newspaper_or_journal' contains  0.0 % non-null values\n",
            "128 Column: 'ri_campus_placement_from' contains  0.0 % non-null values\n",
            "129 Column: 'ri_campus_placement_to' contains  0.0 % non-null values\n",
            "130 Column: 'ri_coll_tch_basic_process' contains  0.0 % non-null values\n",
            "131 Column: 'ri_coll_teach_pro_jnl' contains  0.0 % non-null values\n",
            "132 Column: 'ri_coll_teach_select_date' contains  0.0 % non-null values\n",
            "133 Column: 'ri_employee_referral_prog_from' contains  0.0 % non-null values\n",
            "134 Column: 'ri_employee_referral_prog_to' contains  0.0 % non-null values\n",
            "135 Column: 'ri_employer_web_post_from' contains  0.0 % non-null values\n",
            "136 Column: 'ri_employer_web_post_to' contains  0.0 % non-null values\n",
            "137 Column: 'ri_job_search_website_from' contains  0.0 % non-null values\n",
            "138 Column: 'ri_job_search_website_to' contains  0.0 % non-null values\n",
            "139 Column: 'ri_layoff_in_past_six_months' contains  0.0 % non-null values\n",
            "140 Column: 'ri_local_ethnic_paper_from' contains  0.0 % non-null values\n",
            "141 Column: 'ri_local_ethnic_paper_to' contains  0.0 % non-null values\n",
            "142 Column: 'ri_posted_notice_at_worksite' contains  0.0 % non-null values\n",
            "143 Column: 'ri_pvt_employment_firm_from' contains  0.0 % non-null values\n",
            "144 Column: 'ri_pvt_employment_firm_to' contains  0.0 % non-null values\n",
            "145 Column: 'ri_us_workers_considered' contains  0.0 % non-null values\n",
            "146 Column: 'schd_a_sheepherder' contains  0.0 % non-null values\n",
            "147 Column: 'us_economic_sector' contains  96.78 % non-null values\n",
            "148 Column: 'wage_offer_from_9089' contains  99.98 % non-null values\n",
            "149 Column: 'wage_offer_to_9089' contains  22.78 % non-null values\n",
            "150 Column: 'wage_offer_unit_of_pay_9089' contains  99.98 % non-null values\n",
            "151 Column: 'wage_offered_from_9089' contains  0.0 % non-null values\n",
            "152 Column: 'wage_offered_to_9089' contains  0.0 % non-null values\n",
            "153 Column: 'wage_offered_unit_of_pay_9089' contains  0.0 % non-null values\n"
          ]
        }
      ]
    },
    {
      "cell_type": "code",
      "source": [
        "i=0;\n",
        "for col in df.columns:\n",
        "  i=i+1\n",
        "  print(i-1,\"column:'{}'\".format(col),\"contain\",np.round(100*df[col].count()/len(df[\"case_status\"]),decimals=2),'%non-null values')"
      ],
      "metadata": {
        "colab": {
          "base_uri": "https://localhost:8080/",
          "height": 184
        },
        "id": "iYGzVN1bLqVK",
        "outputId": "e3bb29f7-78ba-4b63-bdaf-400f60638df6"
      },
      "execution_count": null,
      "outputs": [
        {
          "output_type": "error",
          "ename": "SyntaxError",
          "evalue": "incomplete input (<ipython-input-12-73b76f193c07>, line 4)",
          "traceback": [
            "\u001b[0;36m  File \u001b[0;32m\"<ipython-input-12-73b76f193c07>\"\u001b[0;36m, line \u001b[0;32m4\u001b[0m\n\u001b[0;31m    print(i-1,\"column:'{}'\".format(col),\"contain\",np.round(100*df[col].count()/len(df[\"case_status\"],decimal=2),'%non-null values')\u001b[0m\n\u001b[0m                                                                                                                                   ^\u001b[0m\n\u001b[0;31mSyntaxError\u001b[0m\u001b[0;31m:\u001b[0m incomplete input\n"
          ]
        }
      ]
    },
    {
      "cell_type": "code",
      "source": [
        "#Displaying percentage of non-null values for each feature\n",
        "i = 0;\n",
        "for col in df.columns:\n",
        "    i = i+1;\n",
        "    print (i-1,\"Column: '{}'\".format(col),\"contains \", np.round(100*df[col].count()/len(df['case_status']),decimals=2),\"% non-null values\" )"
      ],
      "metadata": {
        "colab": {
          "base_uri": "https://localhost:8080/"
        },
        "id": "ez7T_vt2OV3k",
        "outputId": "5b12410a-4a2a-4061-8e04-c93d6c2d2932"
      },
      "execution_count": null,
      "outputs": [
        {
          "output_type": "stream",
          "name": "stdout",
          "text": [
            "0 Column: 'add_these_pw_job_title_9089' contains  0.0 % non-null values\n",
            "1 Column: 'agent_city' contains  0.0 % non-null values\n",
            "2 Column: 'agent_firm_name' contains  0.0 % non-null values\n",
            "3 Column: 'agent_state' contains  0.0 % non-null values\n",
            "4 Column: 'application_type' contains  100.0 % non-null values\n",
            "5 Column: 'case_no' contains  100.0 % non-null values\n",
            "6 Column: 'case_number' contains  0.0 % non-null values\n",
            "7 Column: 'case_received_date' contains  0.0 % non-null values\n",
            "8 Column: 'case_status' contains  100.0 % non-null values\n",
            "9 Column: 'class_of_admission' contains  94.18 % non-null values\n",
            "10 Column: 'country_of_citizenship' contains  0.0 % non-null values\n",
            "11 Column: 'country_of_citzenship' contains  99.99 % non-null values\n",
            "12 Column: 'decision_date' contains  100.0 % non-null values\n",
            "13 Column: 'employer_address_1' contains  99.99 % non-null values\n",
            "14 Column: 'employer_address_2' contains  32.37 % non-null values\n",
            "15 Column: 'employer_city' contains  99.98 % non-null values\n",
            "16 Column: 'employer_country' contains  0.0 % non-null values\n",
            "17 Column: 'employer_decl_info_title' contains  0.0 % non-null values\n",
            "18 Column: 'employer_name' contains  99.98 % non-null values\n",
            "19 Column: 'employer_num_employees' contains  0.0 % non-null values\n",
            "20 Column: 'employer_phone' contains  0.0 % non-null values\n",
            "21 Column: 'employer_phone_ext' contains  0.0 % non-null values\n",
            "22 Column: 'employer_postal_code' contains  99.96 % non-null values\n",
            "23 Column: 'employer_state' contains  99.98 % non-null values\n",
            "24 Column: 'employer_yr_estab' contains  0.0 % non-null values\n",
            "25 Column: 'foreign_worker_info_alt_edu_experience' contains  0.0 % non-null values\n",
            "26 Column: 'foreign_worker_info_birth_country' contains  0.0 % non-null values\n",
            "27 Column: 'foreign_worker_info_city' contains  0.0 % non-null values\n",
            "28 Column: 'foreign_worker_info_education' contains  0.0 % non-null values\n",
            "29 Column: 'foreign_worker_info_education_other' contains  0.0 % non-null values\n",
            "30 Column: 'foreign_worker_info_inst' contains  0.0 % non-null values\n",
            "31 Column: 'foreign_worker_info_major' contains  0.0 % non-null values\n",
            "32 Column: 'foreign_worker_info_postal_code' contains  0.0 % non-null values\n",
            "33 Column: 'foreign_worker_info_rel_occup_exp' contains  0.0 % non-null values\n",
            "34 Column: 'foreign_worker_info_req_experience' contains  0.0 % non-null values\n",
            "35 Column: 'foreign_worker_info_state' contains  0.0 % non-null values\n",
            "36 Column: 'foreign_worker_info_training_comp' contains  0.0 % non-null values\n",
            "37 Column: 'foreign_worker_ownership_interest' contains  0.0 % non-null values\n",
            "38 Column: 'foreign_worker_yr_rel_edu_completed' contains  0.0 % non-null values\n",
            "39 Column: 'fw_info_alt_edu_experience' contains  0.0 % non-null values\n",
            "40 Column: 'fw_info_birth_country' contains  0.0 % non-null values\n",
            "41 Column: 'fw_info_education_other' contains  0.0 % non-null values\n",
            "42 Column: 'fw_info_postal_code' contains  0.0 % non-null values\n",
            "43 Column: 'fw_info_rel_occup_exp' contains  0.0 % non-null values\n",
            "44 Column: 'fw_info_req_experience' contains  0.0 % non-null values\n",
            "45 Column: 'fw_info_training_comp' contains  0.0 % non-null values\n",
            "46 Column: 'fw_info_yr_rel_edu_completed' contains  0.0 % non-null values\n",
            "47 Column: 'fw_ownership_interest' contains  0.0 % non-null values\n",
            "48 Column: 'ji_foreign_worker_live_on_premises' contains  0.0 % non-null values\n",
            "49 Column: 'ji_fw_live_on_premises' contains  0.0 % non-null values\n",
            "50 Column: 'ji_live_in_dom_svc_contract' contains  0.0 % non-null values\n",
            "51 Column: 'ji_live_in_domestic_service' contains  0.0 % non-null values\n",
            "52 Column: 'ji_offered_to_sec_j_foreign_worker' contains  0.0 % non-null values\n",
            "53 Column: 'ji_offered_to_sec_j_fw' contains  0.0 % non-null values\n",
            "54 Column: 'job_info_alt_cmb_ed_oth_yrs' contains  0.0 % non-null values\n",
            "55 Column: 'job_info_alt_combo_ed' contains  0.0 % non-null values\n",
            "56 Column: 'job_info_alt_combo_ed_exp' contains  0.0 % non-null values\n",
            "57 Column: 'job_info_alt_combo_ed_other' contains  0.0 % non-null values\n",
            "58 Column: 'job_info_alt_field' contains  0.0 % non-null values\n",
            "59 Column: 'job_info_alt_field_name' contains  0.0 % non-null values\n",
            "60 Column: 'job_info_alt_occ' contains  0.0 % non-null values\n",
            "61 Column: 'job_info_alt_occ_job_title' contains  0.0 % non-null values\n",
            "62 Column: 'job_info_alt_occ_num_months' contains  0.0 % non-null values\n",
            "63 Column: 'job_info_combo_occupation' contains  0.0 % non-null values\n",
            "64 Column: 'job_info_education' contains  0.0 % non-null values\n",
            "65 Column: 'job_info_education_other' contains  0.0 % non-null values\n",
            "66 Column: 'job_info_experience' contains  0.0 % non-null values\n",
            "67 Column: 'job_info_experience_num_months' contains  0.0 % non-null values\n",
            "68 Column: 'job_info_foreign_ed' contains  0.0 % non-null values\n",
            "69 Column: 'job_info_foreign_lang_req' contains  0.0 % non-null values\n",
            "70 Column: 'job_info_job_req_normal' contains  0.0 % non-null values\n",
            "71 Column: 'job_info_job_title' contains  0.0 % non-null values\n",
            "72 Column: 'job_info_major' contains  0.0 % non-null values\n",
            "73 Column: 'job_info_training' contains  0.0 % non-null values\n",
            "74 Column: 'job_info_training_field' contains  0.0 % non-null values\n",
            "75 Column: 'job_info_training_num_months' contains  0.0 % non-null values\n",
            "76 Column: 'job_info_work_city' contains  99.97 % non-null values\n",
            "77 Column: 'job_info_work_postal_code' contains  0.0 % non-null values\n",
            "78 Column: 'job_info_work_state' contains  99.97 % non-null values\n",
            "79 Column: 'naics_2007_us_code' contains  99.8 % non-null values\n",
            "80 Column: 'naics_2007_us_title' contains  96.78 % non-null values\n",
            "81 Column: 'naics_code' contains  0.0 % non-null values\n",
            "82 Column: 'naics_title' contains  0.0 % non-null values\n",
            "83 Column: 'naics_us_code' contains  0.0 % non-null values\n",
            "84 Column: 'naics_us_code_2007' contains  0.0 % non-null values\n",
            "85 Column: 'naics_us_title' contains  0.0 % non-null values\n",
            "86 Column: 'naics_us_title_2007' contains  0.0 % non-null values\n",
            "87 Column: 'orig_case_no' contains  0.0 % non-null values\n",
            "88 Column: 'orig_file_date' contains  0.0 % non-null values\n",
            "89 Column: 'preparer_info_emp_completed' contains  0.0 % non-null values\n",
            "90 Column: 'preparer_info_title' contains  0.0 % non-null values\n",
            "91 Column: 'pw_amount_9089' contains  99.8 % non-null values\n",
            "92 Column: 'pw_determ_date' contains  0.0 % non-null values\n",
            "93 Column: 'pw_expire_date' contains  0.0 % non-null values\n",
            "94 Column: 'pw_job_title_908' contains  0.0 % non-null values\n",
            "95 Column: 'pw_job_title_9089' contains  99.8 % non-null values\n",
            "96 Column: 'pw_level_9089' contains  95.42 % non-null values\n",
            "97 Column: 'pw_soc_code' contains  99.89 % non-null values\n",
            "98 Column: 'pw_soc_title' contains  99.89 % non-null values\n",
            "99 Column: 'pw_source_name_9089' contains  99.95 % non-null values\n",
            "100 Column: 'pw_source_name_other_9089' contains  0.0 % non-null values\n",
            "101 Column: 'pw_track_num' contains  0.0 % non-null values\n",
            "102 Column: 'pw_unit_of_pay_9089' contains  99.8 % non-null values\n",
            "103 Column: 'rec_info_barg_rep_notified' contains  0.0 % non-null values\n",
            "104 Column: 'recr_info_barg_rep_notified' contains  0.0 % non-null values\n",
            "105 Column: 'recr_info_coll_teach_comp_proc' contains  0.0 % non-null values\n",
            "106 Column: 'recr_info_coll_univ_teacher' contains  0.0 % non-null values\n",
            "107 Column: 'recr_info_employer_rec_payment' contains  0.0 % non-null values\n",
            "108 Column: 'recr_info_first_ad_start' contains  0.0 % non-null values\n",
            "109 Column: 'recr_info_job_fair_from' contains  0.0 % non-null values\n",
            "110 Column: 'recr_info_job_fair_to' contains  0.0 % non-null values\n",
            "111 Column: 'recr_info_on_campus_recr_from' contains  0.0 % non-null values\n",
            "112 Column: 'recr_info_on_campus_recr_to' contains  0.0 % non-null values\n",
            "113 Column: 'recr_info_pro_org_advert_from' contains  0.0 % non-null values\n",
            "114 Column: 'recr_info_pro_org_advert_to' contains  0.0 % non-null values\n",
            "115 Column: 'recr_info_prof_org_advert_from' contains  0.0 % non-null values\n",
            "116 Column: 'recr_info_prof_org_advert_to' contains  0.0 % non-null values\n",
            "117 Column: 'recr_info_professional_occ' contains  0.0 % non-null values\n",
            "118 Column: 'recr_info_radio_tv_ad_from' contains  0.0 % non-null values\n",
            "119 Column: 'recr_info_radio_tv_ad_to' contains  0.0 % non-null values\n",
            "120 Column: 'recr_info_second_ad_start' contains  0.0 % non-null values\n",
            "121 Column: 'recr_info_sunday_newspaper' contains  0.0 % non-null values\n",
            "122 Column: 'recr_info_swa_job_order_end' contains  0.0 % non-null values\n",
            "123 Column: 'recr_info_swa_job_order_start' contains  0.0 % non-null values\n",
            "124 Column: 'refile' contains  0.0 % non-null values\n",
            "125 Column: 'ri_1st_ad_newspaper_name' contains  0.0 % non-null values\n",
            "126 Column: 'ri_2nd_ad_newspaper_name' contains  0.0 % non-null values\n",
            "127 Column: 'ri_2nd_ad_newspaper_or_journal' contains  0.0 % non-null values\n",
            "128 Column: 'ri_campus_placement_from' contains  0.0 % non-null values\n",
            "129 Column: 'ri_campus_placement_to' contains  0.0 % non-null values\n",
            "130 Column: 'ri_coll_tch_basic_process' contains  0.0 % non-null values\n",
            "131 Column: 'ri_coll_teach_pro_jnl' contains  0.0 % non-null values\n",
            "132 Column: 'ri_coll_teach_select_date' contains  0.0 % non-null values\n",
            "133 Column: 'ri_employee_referral_prog_from' contains  0.0 % non-null values\n",
            "134 Column: 'ri_employee_referral_prog_to' contains  0.0 % non-null values\n",
            "135 Column: 'ri_employer_web_post_from' contains  0.0 % non-null values\n",
            "136 Column: 'ri_employer_web_post_to' contains  0.0 % non-null values\n",
            "137 Column: 'ri_job_search_website_from' contains  0.0 % non-null values\n",
            "138 Column: 'ri_job_search_website_to' contains  0.0 % non-null values\n",
            "139 Column: 'ri_layoff_in_past_six_months' contains  0.0 % non-null values\n",
            "140 Column: 'ri_local_ethnic_paper_from' contains  0.0 % non-null values\n",
            "141 Column: 'ri_local_ethnic_paper_to' contains  0.0 % non-null values\n",
            "142 Column: 'ri_posted_notice_at_worksite' contains  0.0 % non-null values\n",
            "143 Column: 'ri_pvt_employment_firm_from' contains  0.0 % non-null values\n",
            "144 Column: 'ri_pvt_employment_firm_to' contains  0.0 % non-null values\n",
            "145 Column: 'ri_us_workers_considered' contains  0.0 % non-null values\n",
            "146 Column: 'schd_a_sheepherder' contains  0.0 % non-null values\n",
            "147 Column: 'us_economic_sector' contains  96.78 % non-null values\n",
            "148 Column: 'wage_offer_from_9089' contains  99.98 % non-null values\n",
            "149 Column: 'wage_offer_to_9089' contains  22.78 % non-null values\n",
            "150 Column: 'wage_offer_unit_of_pay_9089' contains  99.98 % non-null values\n",
            "151 Column: 'wage_offered_from_9089' contains  0.0 % non-null values\n",
            "152 Column: 'wage_offered_to_9089' contains  0.0 % non-null values\n",
            "153 Column: 'wage_offered_unit_of_pay_9089' contains  0.0 % non-null values\n"
          ]
        }
      ]
    },
    {
      "cell_type": "code",
      "source": [],
      "metadata": {
        "id": "EKdB5F1TQL94"
      },
      "execution_count": null,
      "outputs": []
    },
    {
      "cell_type": "code",
      "source": [
        "df=df.loc[:,df.count()>=185908]\n",
        "df.info()"
      ],
      "metadata": {
        "colab": {
          "base_uri": "https://localhost:8080/"
        },
        "id": "tzNn3LmGO8dH",
        "outputId": "8b156fb4-f71c-4a9f-a189-59e49d31ba2a"
      },
      "execution_count": null,
      "outputs": [
        {
          "output_type": "stream",
          "name": "stdout",
          "text": [
            "<class 'pandas.core.frame.DataFrame'>\n",
            "RangeIndex: 185909 entries, 0 to 185908\n",
            "Empty DataFrame\n"
          ]
        }
      ]
    },
    {
      "cell_type": "code",
      "source": [
        "df=df.loc[:,]"
      ],
      "metadata": {
        "id": "v9zuabYPPnKj"
      },
      "execution_count": null,
      "outputs": []
    },
    {
      "cell_type": "code",
      "source": [
        "df.info()"
      ],
      "metadata": {
        "colab": {
          "base_uri": "https://localhost:8080/"
        },
        "id": "5oqAJefIPxe6",
        "outputId": "8d99846f-f474-47cf-dde4-d346e4711aa8"
      },
      "execution_count": null,
      "outputs": [
        {
          "output_type": "stream",
          "name": "stdout",
          "text": [
            "<class 'pandas.core.frame.DataFrame'>\n",
            "RangeIndex: 185909 entries, 0 to 185908\n",
            "Columns: 154 entries, add_these_pw_job_title_9089 to wage_offered_unit_of_pay_9089\n",
            "dtypes: float64(26), object(128)\n",
            "memory usage: 218.4+ MB\n"
          ]
        }
      ]
    },
    {
      "cell_type": "code",
      "source": [
        "df[\"case_status\"]"
      ],
      "metadata": {
        "colab": {
          "base_uri": "https://localhost:8080/"
        },
        "id": "c1UCy9mJPzne",
        "outputId": "aa0bab8a-78e2-4fd1-e502-d1e6f38c676d"
      },
      "execution_count": null,
      "outputs": [
        {
          "output_type": "execute_result",
          "data": {
            "text/plain": [
              "0         Certified\n",
              "1            Denied\n",
              "2         Certified\n",
              "3         Certified\n",
              "4         Certified\n",
              "            ...    \n",
              "207046    Certified\n",
              "207047    Certified\n",
              "207048    Certified\n",
              "207049    Certified\n",
              "207050    Certified\n",
              "Name: case_status, Length: 207051, dtype: object"
            ]
          },
          "metadata": {},
          "execution_count": 45
        }
      ]
    },
    {
      "cell_type": "code",
      "source": [
        "df.loc[df.case_status==\"Certified\",\"case_status\"]=1\n",
        "\n",
        "df.loc[df.case_status==\"Denied\",\"case_status\"]=0\n",
        "\n",
        "\n",
        "#fill the missing value of emloyer status ,column with mode\n",
        "\n",
        "df['employer_state']=df[\"employer_state\"].fillna(df[\"employer_state\"].mode()[0])\n",
        "\n",
        "#Mapping from state name to abbreviation\n",
        "state_abbrevs = {\n",
        "    'Alabama': 'AL',\n",
        "    'Alaska': 'AK',\n",
        "    'Arizona': 'AZ',\n",
        "    'Arkansas': 'AR',\n",
        "    'California': 'CA',\n",
        "    'Colorado': 'CO',\n",
        "    'Connecticut': 'CT',\n",
        "    'Delaware': 'DE',\n",
        "    'Florida': 'FL',\n",
        "    'Georgia': 'GA',\n",
        "    'Hawaii': 'HI',\n",
        "    'Idaho': 'ID',\n",
        "    'Illinois': 'IL',\n",
        "    'Indiana': 'IN',\n",
        "    'Iowa': 'IA',\n",
        "    'Kansas': 'KS',\n",
        "    'Kentucky': 'KY',\n",
        "    'Louisiana': 'LA',\n",
        "    'Maine': 'ME',\n",
        "    'Maryland': 'MD',\n",
        "    'Massachusetts': 'MA',\n",
        "    'Michigan': 'MI',\n",
        "    'Minnesota': 'MN',\n",
        "    'Mississippi': 'MS',\n",
        "    'Missouri': 'MO',\n",
        "    'Montana': 'MT',\n",
        "    'Nebraska': 'NE',\n",
        "    'Nevada': 'NV',\n",
        "    'New Hampshire': 'NH',\n",
        "    'New Jersey': 'NJ',\n",
        "    'New Mexico': 'NM',\n",
        "    'New York': 'NY',\n",
        "    'North Carolina': 'NC',\n",
        "    'North Dakota': 'ND',\n",
        "    'Ohio': 'OH',\n",
        "    'Oklahoma': 'OK',\n",
        "    'Oregon': 'OR',\n",
        "    'Pennsylvania': 'PA',\n",
        "    'Rhode Island': 'RI',\n",
        "    'South Carolina': 'SC',\n",
        "    'South Dakota': 'SD',\n",
        "    'Tennessee': 'TN',\n",
        "    'Texas': 'TX',\n",
        "    'Utah': 'UT',\n",
        "    'Vermont': 'VT',\n",
        "    'Virginia': 'VA',\n",
        "    'Washington': 'WA',\n",
        "    'West Virginia': 'WV',\n",
        "    'Wisconsin': 'WI',\n",
        "    'Wyoming': 'WY',\n",
        "    'Northern Mariana Islands':'MP',\n",
        "    'Palau': 'PW',\n",
        "    'Puerto Rico': 'PR',\n",
        "    'Virgin Islands': 'VI',\n",
        "    'District of Columbia': 'DC'\n",
        "}\n",
        "\n",
        "\n",
        "us_state_addrev={k.upper():v for k ,v in state_abbrevs.items()}\n",
        "df[\"employer_state\"].replace(us_state_abbrev,inplace=True)\n",
        "\n",
        "\n"
      ],
      "metadata": {
        "colab": {
          "base_uri": "https://localhost:8080/",
          "height": 219
        },
        "id": "bADyQPnSRA1j",
        "outputId": "68830e8d-cbf5-4955-8966-821167a6fd25"
      },
      "execution_count": null,
      "outputs": [
        {
          "output_type": "error",
          "ename": "NameError",
          "evalue": "name 'us_state_abbrev' is not defined",
          "traceback": [
            "\u001b[0;31m---------------------------------------------------------------------------\u001b[0m",
            "\u001b[0;31mNameError\u001b[0m                                 Traceback (most recent call last)",
            "\u001b[0;32m<ipython-input-53-2335219a840a>\u001b[0m in \u001b[0;36m<cell line: 71>\u001b[0;34m()\u001b[0m\n\u001b[1;32m     69\u001b[0m \u001b[0;34m\u001b[0m\u001b[0m\n\u001b[1;32m     70\u001b[0m \u001b[0mus_state_addrev\u001b[0m\u001b[0;34m=\u001b[0m\u001b[0;34m{\u001b[0m\u001b[0mk\u001b[0m\u001b[0;34m.\u001b[0m\u001b[0mupper\u001b[0m\u001b[0;34m(\u001b[0m\u001b[0;34m)\u001b[0m\u001b[0;34m:\u001b[0m\u001b[0mv\u001b[0m \u001b[0;32mfor\u001b[0m \u001b[0mk\u001b[0m \u001b[0;34m,\u001b[0m\u001b[0mv\u001b[0m \u001b[0;32min\u001b[0m \u001b[0mstate_abbrevs\u001b[0m\u001b[0;34m.\u001b[0m\u001b[0mitems\u001b[0m\u001b[0;34m(\u001b[0m\u001b[0;34m)\u001b[0m\u001b[0;34m}\u001b[0m\u001b[0;34m\u001b[0m\u001b[0;34m\u001b[0m\u001b[0m\n\u001b[0;32m---> 71\u001b[0;31m \u001b[0mdf\u001b[0m\u001b[0;34m[\u001b[0m\u001b[0;34m\"employer_state\"\u001b[0m\u001b[0;34m]\u001b[0m\u001b[0;34m.\u001b[0m\u001b[0mreplace\u001b[0m\u001b[0;34m(\u001b[0m\u001b[0mus_state_abbrev\u001b[0m\u001b[0;34m,\u001b[0m\u001b[0minplace\u001b[0m\u001b[0;34m=\u001b[0m\u001b[0;32mTrue\u001b[0m\u001b[0;34m)\u001b[0m\u001b[0;34m\u001b[0m\u001b[0;34m\u001b[0m\u001b[0m\n\u001b[0m\u001b[1;32m     72\u001b[0m \u001b[0;34m\u001b[0m\u001b[0m\n\u001b[1;32m     73\u001b[0m \u001b[0;34m\u001b[0m\u001b[0m\n",
            "\u001b[0;31mNameError\u001b[0m: name 'us_state_abbrev' is not defined"
          ]
        }
      ]
    },
    {
      "cell_type": "code",
      "source": [
        "df[\"pw_soc_code\"]=df[\"pw_soc_code\"].str.replace('.',\"\")\n",
        "df[\"pw_soc_code\"]=df[\"pw_soc_code\"].str.replace('-',\"\")\n",
        "df[\"pw_soc_code\"]=df[\"pw_soc_code\"].astype(str).str[0:6]\n",
        "df[\"pw_soc_code\"].value_counts()\n",
        "\n",
        "df.loc[df[\"pw_soc_code\"]==\"nan\",'pw_soc_code']=df[\"pw_soc_code\"].mode()[0]\n",
        "\n"
      ],
      "metadata": {
        "id": "mqa1V4R2R__k"
      },
      "execution_count": null,
      "outputs": []
    },
    {
      "cell_type": "code",
      "source": [
        "df.loc[df[\"pw_soc_code\"]==\"None\",\"pw_soc_code\"]=df[\"pw_soc_code\"].mode()[0]"
      ],
      "metadata": {
        "id": "QYn7igA7W7sZ"
      },
      "execution_count": null,
      "outputs": []
    },
    {
      "cell_type": "code",
      "source": [
        "df[\"pw_soc_code\"].astype(int)"
      ],
      "metadata": {
        "colab": {
          "base_uri": "https://localhost:8080/"
        },
        "id": "uQcsSQhQa5pK",
        "outputId": "d279794a-d113-4127-fea0-84cd285a5cbf"
      },
      "execution_count": null,
      "outputs": [
        {
          "output_type": "execute_result",
          "data": {
            "text/plain": [
              "0         151031\n",
              "1         474041\n",
              "2         172051\n",
              "3         434071\n",
              "4         419031\n",
              "           ...  \n",
              "207046    151132\n",
              "207047    151133\n",
              "207048    112031\n",
              "207049    112021\n",
              "207050    151132\n",
              "Name: pw_soc_code, Length: 207051, dtype: int64"
            ]
          },
          "metadata": {},
          "execution_count": 62
        }
      ]
    },
    {
      "cell_type": "code",
      "source": [
        "# Convert the column containing numerical values with commas to numeric format\n",
        "\n",
        "\n",
        "\n",
        "df[\"pw_amount_9089\"]=df[\"pw_amount_9089\"].str.replace(',',\"\").astype(float)\n",
        "median_pw_amount=df[\"pw_amount_9089\"].median()\n",
        "df[\"pw_amount_9809\"].fillna(median_pw_amount,inplace=True)\n",
        "print(df.isnull().sum())"
      ],
      "metadata": {
        "colab": {
          "base_uri": "https://localhost:8080/",
          "height": 569
        },
        "id": "nFCoBjRIbOa9",
        "outputId": "4d9e209f-48ef-4ddc-c2cf-e5f721cd8403"
      },
      "execution_count": null,
      "outputs": [
        {
          "output_type": "error",
          "ename": "KeyError",
          "evalue": "'pw_amount_9809'",
          "traceback": [
            "\u001b[0;31m---------------------------------------------------------------------------\u001b[0m",
            "\u001b[0;31mKeyError\u001b[0m                                  Traceback (most recent call last)",
            "\u001b[0;32m/usr/local/lib/python3.10/dist-packages/pandas/core/indexes/base.py\u001b[0m in \u001b[0;36mget_loc\u001b[0;34m(self, key)\u001b[0m\n\u001b[1;32m   3652\u001b[0m         \u001b[0;32mtry\u001b[0m\u001b[0;34m:\u001b[0m\u001b[0;34m\u001b[0m\u001b[0;34m\u001b[0m\u001b[0m\n\u001b[0;32m-> 3653\u001b[0;31m             \u001b[0;32mreturn\u001b[0m \u001b[0mself\u001b[0m\u001b[0;34m.\u001b[0m\u001b[0m_engine\u001b[0m\u001b[0;34m.\u001b[0m\u001b[0mget_loc\u001b[0m\u001b[0;34m(\u001b[0m\u001b[0mcasted_key\u001b[0m\u001b[0;34m)\u001b[0m\u001b[0;34m\u001b[0m\u001b[0;34m\u001b[0m\u001b[0m\n\u001b[0m\u001b[1;32m   3654\u001b[0m         \u001b[0;32mexcept\u001b[0m \u001b[0mKeyError\u001b[0m \u001b[0;32mas\u001b[0m \u001b[0merr\u001b[0m\u001b[0;34m:\u001b[0m\u001b[0;34m\u001b[0m\u001b[0;34m\u001b[0m\u001b[0m\n",
            "\u001b[0;32m/usr/local/lib/python3.10/dist-packages/pandas/_libs/index.pyx\u001b[0m in \u001b[0;36mpandas._libs.index.IndexEngine.get_loc\u001b[0;34m()\u001b[0m\n",
            "\u001b[0;32m/usr/local/lib/python3.10/dist-packages/pandas/_libs/index.pyx\u001b[0m in \u001b[0;36mpandas._libs.index.IndexEngine.get_loc\u001b[0;34m()\u001b[0m\n",
            "\u001b[0;32mpandas/_libs/hashtable_class_helper.pxi\u001b[0m in \u001b[0;36mpandas._libs.hashtable.PyObjectHashTable.get_item\u001b[0;34m()\u001b[0m\n",
            "\u001b[0;32mpandas/_libs/hashtable_class_helper.pxi\u001b[0m in \u001b[0;36mpandas._libs.hashtable.PyObjectHashTable.get_item\u001b[0;34m()\u001b[0m\n",
            "\u001b[0;31mKeyError\u001b[0m: 'pw_amount_9809'",
            "\nThe above exception was the direct cause of the following exception:\n",
            "\u001b[0;31mKeyError\u001b[0m                                  Traceback (most recent call last)",
            "\u001b[0;32m<ipython-input-64-ee7e04dc91a0>\u001b[0m in \u001b[0;36m<cell line: 7>\u001b[0;34m()\u001b[0m\n\u001b[1;32m      5\u001b[0m \u001b[0mdf\u001b[0m\u001b[0;34m[\u001b[0m\u001b[0;34m\"pw_amount_9089\"\u001b[0m\u001b[0;34m]\u001b[0m\u001b[0;34m=\u001b[0m\u001b[0mdf\u001b[0m\u001b[0;34m[\u001b[0m\u001b[0;34m\"pw_amount_9089\"\u001b[0m\u001b[0;34m]\u001b[0m\u001b[0;34m.\u001b[0m\u001b[0mstr\u001b[0m\u001b[0;34m.\u001b[0m\u001b[0mreplace\u001b[0m\u001b[0;34m(\u001b[0m\u001b[0;34m','\u001b[0m\u001b[0;34m,\u001b[0m\u001b[0;34m\"\"\u001b[0m\u001b[0;34m)\u001b[0m\u001b[0;34m.\u001b[0m\u001b[0mastype\u001b[0m\u001b[0;34m(\u001b[0m\u001b[0mfloat\u001b[0m\u001b[0;34m)\u001b[0m\u001b[0;34m\u001b[0m\u001b[0;34m\u001b[0m\u001b[0m\n\u001b[1;32m      6\u001b[0m \u001b[0mmedian_pw_amount\u001b[0m\u001b[0;34m=\u001b[0m\u001b[0mdf\u001b[0m\u001b[0;34m[\u001b[0m\u001b[0;34m\"pw_amount_9089\"\u001b[0m\u001b[0;34m]\u001b[0m\u001b[0;34m.\u001b[0m\u001b[0mmedian\u001b[0m\u001b[0;34m(\u001b[0m\u001b[0;34m)\u001b[0m\u001b[0;34m\u001b[0m\u001b[0;34m\u001b[0m\u001b[0m\n\u001b[0;32m----> 7\u001b[0;31m \u001b[0mdf\u001b[0m\u001b[0;34m[\u001b[0m\u001b[0;34m\"pw_amount_9809\"\u001b[0m\u001b[0;34m]\u001b[0m\u001b[0;34m.\u001b[0m\u001b[0mfillna\u001b[0m\u001b[0;34m(\u001b[0m\u001b[0mmedian_pw_amount\u001b[0m\u001b[0;34m,\u001b[0m\u001b[0minplace\u001b[0m\u001b[0;34m=\u001b[0m\u001b[0;32mTrue\u001b[0m\u001b[0;34m)\u001b[0m\u001b[0;34m\u001b[0m\u001b[0;34m\u001b[0m\u001b[0m\n\u001b[0m\u001b[1;32m      8\u001b[0m \u001b[0mprint\u001b[0m\u001b[0;34m(\u001b[0m\u001b[0mdf\u001b[0m\u001b[0;34m.\u001b[0m\u001b[0misnull\u001b[0m\u001b[0;34m(\u001b[0m\u001b[0;34m)\u001b[0m\u001b[0;34m.\u001b[0m\u001b[0msum\u001b[0m\u001b[0;34m(\u001b[0m\u001b[0;34m)\u001b[0m\u001b[0;34m)\u001b[0m\u001b[0;34m\u001b[0m\u001b[0;34m\u001b[0m\u001b[0m\n",
            "\u001b[0;32m/usr/local/lib/python3.10/dist-packages/pandas/core/frame.py\u001b[0m in \u001b[0;36m__getitem__\u001b[0;34m(self, key)\u001b[0m\n\u001b[1;32m   3759\u001b[0m             \u001b[0;32mif\u001b[0m \u001b[0mself\u001b[0m\u001b[0;34m.\u001b[0m\u001b[0mcolumns\u001b[0m\u001b[0;34m.\u001b[0m\u001b[0mnlevels\u001b[0m \u001b[0;34m>\u001b[0m \u001b[0;36m1\u001b[0m\u001b[0;34m:\u001b[0m\u001b[0;34m\u001b[0m\u001b[0;34m\u001b[0m\u001b[0m\n\u001b[1;32m   3760\u001b[0m                 \u001b[0;32mreturn\u001b[0m \u001b[0mself\u001b[0m\u001b[0;34m.\u001b[0m\u001b[0m_getitem_multilevel\u001b[0m\u001b[0;34m(\u001b[0m\u001b[0mkey\u001b[0m\u001b[0;34m)\u001b[0m\u001b[0;34m\u001b[0m\u001b[0;34m\u001b[0m\u001b[0m\n\u001b[0;32m-> 3761\u001b[0;31m             \u001b[0mindexer\u001b[0m \u001b[0;34m=\u001b[0m \u001b[0mself\u001b[0m\u001b[0;34m.\u001b[0m\u001b[0mcolumns\u001b[0m\u001b[0;34m.\u001b[0m\u001b[0mget_loc\u001b[0m\u001b[0;34m(\u001b[0m\u001b[0mkey\u001b[0m\u001b[0;34m)\u001b[0m\u001b[0;34m\u001b[0m\u001b[0;34m\u001b[0m\u001b[0m\n\u001b[0m\u001b[1;32m   3762\u001b[0m             \u001b[0;32mif\u001b[0m \u001b[0mis_integer\u001b[0m\u001b[0;34m(\u001b[0m\u001b[0mindexer\u001b[0m\u001b[0;34m)\u001b[0m\u001b[0;34m:\u001b[0m\u001b[0;34m\u001b[0m\u001b[0;34m\u001b[0m\u001b[0m\n\u001b[1;32m   3763\u001b[0m                 \u001b[0mindexer\u001b[0m \u001b[0;34m=\u001b[0m \u001b[0;34m[\u001b[0m\u001b[0mindexer\u001b[0m\u001b[0;34m]\u001b[0m\u001b[0;34m\u001b[0m\u001b[0;34m\u001b[0m\u001b[0m\n",
            "\u001b[0;32m/usr/local/lib/python3.10/dist-packages/pandas/core/indexes/base.py\u001b[0m in \u001b[0;36mget_loc\u001b[0;34m(self, key)\u001b[0m\n\u001b[1;32m   3653\u001b[0m             \u001b[0;32mreturn\u001b[0m \u001b[0mself\u001b[0m\u001b[0;34m.\u001b[0m\u001b[0m_engine\u001b[0m\u001b[0;34m.\u001b[0m\u001b[0mget_loc\u001b[0m\u001b[0;34m(\u001b[0m\u001b[0mcasted_key\u001b[0m\u001b[0;34m)\u001b[0m\u001b[0;34m\u001b[0m\u001b[0;34m\u001b[0m\u001b[0m\n\u001b[1;32m   3654\u001b[0m         \u001b[0;32mexcept\u001b[0m \u001b[0mKeyError\u001b[0m \u001b[0;32mas\u001b[0m \u001b[0merr\u001b[0m\u001b[0;34m:\u001b[0m\u001b[0;34m\u001b[0m\u001b[0;34m\u001b[0m\u001b[0m\n\u001b[0;32m-> 3655\u001b[0;31m             \u001b[0;32mraise\u001b[0m \u001b[0mKeyError\u001b[0m\u001b[0;34m(\u001b[0m\u001b[0mkey\u001b[0m\u001b[0;34m)\u001b[0m \u001b[0;32mfrom\u001b[0m \u001b[0merr\u001b[0m\u001b[0;34m\u001b[0m\u001b[0;34m\u001b[0m\u001b[0m\n\u001b[0m\u001b[1;32m   3656\u001b[0m         \u001b[0;32mexcept\u001b[0m \u001b[0mTypeError\u001b[0m\u001b[0;34m:\u001b[0m\u001b[0;34m\u001b[0m\u001b[0;34m\u001b[0m\u001b[0m\n\u001b[1;32m   3657\u001b[0m             \u001b[0;31m# If we have a listlike key, _check_indexing_error will raise\u001b[0m\u001b[0;34m\u001b[0m\u001b[0;34m\u001b[0m\u001b[0m\n",
            "\u001b[0;31mKeyError\u001b[0m: 'pw_amount_9809'"
          ]
        }
      ]
    },
    {
      "cell_type": "code",
      "source": [
        "df.columns"
      ],
      "metadata": {
        "colab": {
          "base_uri": "https://localhost:8080/"
        },
        "id": "0lXqJj75e7dc",
        "outputId": "18266e50-0c86-4aec-f7dc-da49c3a63269"
      },
      "execution_count": null,
      "outputs": [
        {
          "output_type": "execute_result",
          "data": {
            "text/plain": [
              "Index(['add_these_pw_job_title_9089', 'agent_city', 'agent_firm_name',\n",
              "       'agent_state', 'application_type', 'case_received_date', 'case_status',\n",
              "       'class_of_admission', 'country_of_citizenship', 'country_of_citzenship',\n",
              "       ...\n",
              "       'ri_pvt_employment_firm_to', 'ri_us_workers_considered',\n",
              "       'schd_a_sheepherder', 'us_economic_sector', 'wage_offer_from_9089',\n",
              "       'wage_offer_to_9089', 'wage_offer_unit_of_pay_9089',\n",
              "       'wage_offered_from_9089', 'wage_offered_to_9089',\n",
              "       'wage_offered_unit_of_pay_9089'],\n",
              "      dtype='object', length=152)"
            ]
          },
          "metadata": {},
          "execution_count": 66
        }
      ]
    },
    {
      "cell_type": "code",
      "source": [
        "df.info()"
      ],
      "metadata": {
        "colab": {
          "base_uri": "https://localhost:8080/"
        },
        "id": "WerZaMeMfeSu",
        "outputId": "fc2ca6fb-d775-4ea0-bda9-c1f44556965a"
      },
      "execution_count": null,
      "outputs": [
        {
          "output_type": "stream",
          "name": "stdout",
          "text": [
            "<class 'pandas.core.frame.DataFrame'>\n",
            "RangeIndex: 207051 entries, 0 to 207050\n",
            "Columns: 152 entries, add_these_pw_job_title_9089 to wage_offered_unit_of_pay_9089\n",
            "dtypes: float64(27), object(125)\n",
            "memory usage: 240.1+ MB\n"
          ]
        }
      ]
    },
    {
      "cell_type": "code",
      "source": [
        "df.columns.values"
      ],
      "metadata": {
        "colab": {
          "base_uri": "https://localhost:8080/"
        },
        "id": "ZSEKl3rCfo1v",
        "outputId": "ca8c157a-89f1-47dd-e6e8-a358c9122dd9"
      },
      "execution_count": null,
      "outputs": [
        {
          "output_type": "execute_result",
          "data": {
            "text/plain": [
              "array(['add_these_pw_job_title_9089', 'agent_city', 'agent_firm_name',\n",
              "       'agent_state', 'application_type', 'case_received_date',\n",
              "       'case_status', 'class_of_admission', 'country_of_citizenship',\n",
              "       'country_of_citzenship', 'decision_date', 'employer_address_1',\n",
              "       'employer_address_2', 'employer_city', 'employer_country',\n",
              "       'employer_decl_info_title', 'employer_name',\n",
              "       'employer_num_employees', 'employer_phone', 'employer_phone_ext',\n",
              "       'employer_postal_code', 'employer_state', 'employer_yr_estab',\n",
              "       'foreign_worker_info_alt_edu_experience',\n",
              "       'foreign_worker_info_birth_country', 'foreign_worker_info_city',\n",
              "       'foreign_worker_info_education',\n",
              "       'foreign_worker_info_education_other', 'foreign_worker_info_inst',\n",
              "       'foreign_worker_info_major', 'foreign_worker_info_postal_code',\n",
              "       'foreign_worker_info_rel_occup_exp',\n",
              "       'foreign_worker_info_req_experience', 'foreign_worker_info_state',\n",
              "       'foreign_worker_info_training_comp',\n",
              "       'foreign_worker_ownership_interest',\n",
              "       'foreign_worker_yr_rel_edu_completed',\n",
              "       'fw_info_alt_edu_experience', 'fw_info_birth_country',\n",
              "       'fw_info_education_other', 'fw_info_postal_code',\n",
              "       'fw_info_rel_occup_exp', 'fw_info_req_experience',\n",
              "       'fw_info_training_comp', 'fw_info_yr_rel_edu_completed',\n",
              "       'fw_ownership_interest', 'ji_foreign_worker_live_on_premises',\n",
              "       'ji_fw_live_on_premises', 'ji_live_in_dom_svc_contract',\n",
              "       'ji_live_in_domestic_service',\n",
              "       'ji_offered_to_sec_j_foreign_worker', 'ji_offered_to_sec_j_fw',\n",
              "       'job_info_alt_cmb_ed_oth_yrs', 'job_info_alt_combo_ed',\n",
              "       'job_info_alt_combo_ed_exp', 'job_info_alt_combo_ed_other',\n",
              "       'job_info_alt_field', 'job_info_alt_field_name',\n",
              "       'job_info_alt_occ', 'job_info_alt_occ_job_title',\n",
              "       'job_info_alt_occ_num_months', 'job_info_combo_occupation',\n",
              "       'job_info_education', 'job_info_education_other',\n",
              "       'job_info_experience', 'job_info_experience_num_months',\n",
              "       'job_info_foreign_ed', 'job_info_foreign_lang_req',\n",
              "       'job_info_job_req_normal', 'job_info_job_title', 'job_info_major',\n",
              "       'job_info_training', 'job_info_training_field',\n",
              "       'job_info_training_num_months', 'job_info_work_city',\n",
              "       'job_info_work_postal_code', 'job_info_work_state',\n",
              "       'naics_2007_us_code', 'naics_2007_us_title', 'naics_code',\n",
              "       'naics_title', 'naics_us_code', 'naics_us_code_2007',\n",
              "       'naics_us_title', 'naics_us_title_2007', 'orig_case_no',\n",
              "       'orig_file_date', 'preparer_info_emp_completed',\n",
              "       'preparer_info_title', 'pw_amount_9089', 'pw_determ_date',\n",
              "       'pw_expire_date', 'pw_job_title_908', 'pw_job_title_9089',\n",
              "       'pw_level_9089', 'pw_soc_code', 'pw_soc_title',\n",
              "       'pw_source_name_9089', 'pw_source_name_other_9089', 'pw_track_num',\n",
              "       'pw_unit_of_pay_9089', 'rec_info_barg_rep_notified',\n",
              "       'recr_info_barg_rep_notified', 'recr_info_coll_teach_comp_proc',\n",
              "       'recr_info_coll_univ_teacher', 'recr_info_employer_rec_payment',\n",
              "       'recr_info_first_ad_start', 'recr_info_job_fair_from',\n",
              "       'recr_info_job_fair_to', 'recr_info_on_campus_recr_from',\n",
              "       'recr_info_on_campus_recr_to', 'recr_info_pro_org_advert_from',\n",
              "       'recr_info_pro_org_advert_to', 'recr_info_prof_org_advert_from',\n",
              "       'recr_info_prof_org_advert_to', 'recr_info_professional_occ',\n",
              "       'recr_info_radio_tv_ad_from', 'recr_info_radio_tv_ad_to',\n",
              "       'recr_info_second_ad_start', 'recr_info_sunday_newspaper',\n",
              "       'recr_info_swa_job_order_end', 'recr_info_swa_job_order_start',\n",
              "       'refile', 'ri_1st_ad_newspaper_name', 'ri_2nd_ad_newspaper_name',\n",
              "       'ri_2nd_ad_newspaper_or_journal', 'ri_campus_placement_from',\n",
              "       'ri_campus_placement_to', 'ri_coll_tch_basic_process',\n",
              "       'ri_coll_teach_pro_jnl', 'ri_coll_teach_select_date',\n",
              "       'ri_employee_referral_prog_from', 'ri_employee_referral_prog_to',\n",
              "       'ri_employer_web_post_from', 'ri_employer_web_post_to',\n",
              "       'ri_job_search_website_from', 'ri_job_search_website_to',\n",
              "       'ri_layoff_in_past_six_months', 'ri_local_ethnic_paper_from',\n",
              "       'ri_local_ethnic_paper_to', 'ri_posted_notice_at_worksite',\n",
              "       'ri_pvt_employment_firm_from', 'ri_pvt_employment_firm_to',\n",
              "       'ri_us_workers_considered', 'schd_a_sheepherder',\n",
              "       'us_economic_sector', 'wage_offer_from_9089', 'wage_offer_to_9089',\n",
              "       'wage_offer_unit_of_pay_9089', 'wage_offered_from_9089',\n",
              "       'wage_offered_to_9089', 'wage_offered_unit_of_pay_9089'],\n",
              "      dtype=object)"
            ]
          },
          "metadata": {},
          "execution_count": 69
        }
      ]
    },
    {
      "cell_type": "code",
      "source": [
        "# Convert the column containing numerical values with commas to numeric format\n",
        "df['pw_amount_9089'] = df['pw_amount_9089'].str.replace(',', '').astype(float)\n",
        "\n",
        "# Now, you can replace null values in the numerical column with the median\n",
        "median_pw_amount = df['pw_amount_9089'].median()\n",
        "df['pw_amount_9089'].fillna(median_pw_amount, inplace=True)\n",
        "\n",
        "# Verify that there are no more null values\n",
        "print(df.isnull().sum())\n"
      ],
      "metadata": {
        "colab": {
          "base_uri": "https://localhost:8080/",
          "height": 460
        },
        "id": "aKMZepYsf3S-",
        "outputId": "a04d3e47-5ebf-4738-a9e0-4d2b961440dd"
      },
      "execution_count": null,
      "outputs": [
        {
          "output_type": "error",
          "ename": "AttributeError",
          "evalue": "Can only use .str accessor with string values!",
          "traceback": [
            "\u001b[0;31m---------------------------------------------------------------------------\u001b[0m",
            "\u001b[0;31mAttributeError\u001b[0m                            Traceback (most recent call last)",
            "\u001b[0;32m<ipython-input-70-21230e171da4>\u001b[0m in \u001b[0;36m<cell line: 2>\u001b[0;34m()\u001b[0m\n\u001b[1;32m      1\u001b[0m \u001b[0;31m# Convert the column containing numerical values with commas to numeric format\u001b[0m\u001b[0;34m\u001b[0m\u001b[0;34m\u001b[0m\u001b[0m\n\u001b[0;32m----> 2\u001b[0;31m \u001b[0mdf\u001b[0m\u001b[0;34m[\u001b[0m\u001b[0;34m'pw_amount_9089'\u001b[0m\u001b[0;34m]\u001b[0m \u001b[0;34m=\u001b[0m \u001b[0mdf\u001b[0m\u001b[0;34m[\u001b[0m\u001b[0;34m'pw_amount_9089'\u001b[0m\u001b[0;34m]\u001b[0m\u001b[0;34m.\u001b[0m\u001b[0mstr\u001b[0m\u001b[0;34m.\u001b[0m\u001b[0mreplace\u001b[0m\u001b[0;34m(\u001b[0m\u001b[0;34m','\u001b[0m\u001b[0;34m,\u001b[0m \u001b[0;34m''\u001b[0m\u001b[0;34m)\u001b[0m\u001b[0;34m.\u001b[0m\u001b[0mastype\u001b[0m\u001b[0;34m(\u001b[0m\u001b[0mfloat\u001b[0m\u001b[0;34m)\u001b[0m\u001b[0;34m\u001b[0m\u001b[0;34m\u001b[0m\u001b[0m\n\u001b[0m\u001b[1;32m      3\u001b[0m \u001b[0;34m\u001b[0m\u001b[0m\n\u001b[1;32m      4\u001b[0m \u001b[0;31m# Now, you can replace null values in the numerical column with the median\u001b[0m\u001b[0;34m\u001b[0m\u001b[0;34m\u001b[0m\u001b[0m\n\u001b[1;32m      5\u001b[0m \u001b[0mmedian_pw_amount\u001b[0m \u001b[0;34m=\u001b[0m \u001b[0mdf\u001b[0m\u001b[0;34m[\u001b[0m\u001b[0;34m'pw_amount_9089'\u001b[0m\u001b[0;34m]\u001b[0m\u001b[0;34m.\u001b[0m\u001b[0mmedian\u001b[0m\u001b[0;34m(\u001b[0m\u001b[0;34m)\u001b[0m\u001b[0;34m\u001b[0m\u001b[0;34m\u001b[0m\u001b[0m\n",
            "\u001b[0;32m/usr/local/lib/python3.10/dist-packages/pandas/core/generic.py\u001b[0m in \u001b[0;36m__getattr__\u001b[0;34m(self, name)\u001b[0m\n\u001b[1;32m   5987\u001b[0m         ):\n\u001b[1;32m   5988\u001b[0m             \u001b[0;32mreturn\u001b[0m \u001b[0mself\u001b[0m\u001b[0;34m[\u001b[0m\u001b[0mname\u001b[0m\u001b[0;34m]\u001b[0m\u001b[0;34m\u001b[0m\u001b[0;34m\u001b[0m\u001b[0m\n\u001b[0;32m-> 5989\u001b[0;31m         \u001b[0;32mreturn\u001b[0m \u001b[0mobject\u001b[0m\u001b[0;34m.\u001b[0m\u001b[0m__getattribute__\u001b[0m\u001b[0;34m(\u001b[0m\u001b[0mself\u001b[0m\u001b[0;34m,\u001b[0m \u001b[0mname\u001b[0m\u001b[0;34m)\u001b[0m\u001b[0;34m\u001b[0m\u001b[0;34m\u001b[0m\u001b[0m\n\u001b[0m\u001b[1;32m   5990\u001b[0m \u001b[0;34m\u001b[0m\u001b[0m\n\u001b[1;32m   5991\u001b[0m     \u001b[0;32mdef\u001b[0m \u001b[0m__setattr__\u001b[0m\u001b[0;34m(\u001b[0m\u001b[0mself\u001b[0m\u001b[0;34m,\u001b[0m \u001b[0mname\u001b[0m\u001b[0;34m:\u001b[0m \u001b[0mstr\u001b[0m\u001b[0;34m,\u001b[0m \u001b[0mvalue\u001b[0m\u001b[0;34m)\u001b[0m \u001b[0;34m->\u001b[0m \u001b[0;32mNone\u001b[0m\u001b[0;34m:\u001b[0m\u001b[0;34m\u001b[0m\u001b[0;34m\u001b[0m\u001b[0m\n",
            "\u001b[0;32m/usr/local/lib/python3.10/dist-packages/pandas/core/accessor.py\u001b[0m in \u001b[0;36m__get__\u001b[0;34m(self, obj, cls)\u001b[0m\n\u001b[1;32m    222\u001b[0m             \u001b[0;31m# we're accessing the attribute of the class, i.e., Dataset.geo\u001b[0m\u001b[0;34m\u001b[0m\u001b[0;34m\u001b[0m\u001b[0m\n\u001b[1;32m    223\u001b[0m             \u001b[0;32mreturn\u001b[0m \u001b[0mself\u001b[0m\u001b[0;34m.\u001b[0m\u001b[0m_accessor\u001b[0m\u001b[0;34m\u001b[0m\u001b[0;34m\u001b[0m\u001b[0m\n\u001b[0;32m--> 224\u001b[0;31m         \u001b[0maccessor_obj\u001b[0m \u001b[0;34m=\u001b[0m \u001b[0mself\u001b[0m\u001b[0;34m.\u001b[0m\u001b[0m_accessor\u001b[0m\u001b[0;34m(\u001b[0m\u001b[0mobj\u001b[0m\u001b[0;34m)\u001b[0m\u001b[0;34m\u001b[0m\u001b[0;34m\u001b[0m\u001b[0m\n\u001b[0m\u001b[1;32m    225\u001b[0m         \u001b[0;31m# Replace the property with the accessor object. Inspired by:\u001b[0m\u001b[0;34m\u001b[0m\u001b[0;34m\u001b[0m\u001b[0m\n\u001b[1;32m    226\u001b[0m         \u001b[0;31m# https://www.pydanny.com/cached-property.html\u001b[0m\u001b[0;34m\u001b[0m\u001b[0;34m\u001b[0m\u001b[0m\n",
            "\u001b[0;32m/usr/local/lib/python3.10/dist-packages/pandas/core/strings/accessor.py\u001b[0m in \u001b[0;36m__init__\u001b[0;34m(self, data)\u001b[0m\n\u001b[1;32m    179\u001b[0m         \u001b[0;32mfrom\u001b[0m \u001b[0mpandas\u001b[0m\u001b[0;34m.\u001b[0m\u001b[0mcore\u001b[0m\u001b[0;34m.\u001b[0m\u001b[0marrays\u001b[0m\u001b[0;34m.\u001b[0m\u001b[0mstring_\u001b[0m \u001b[0;32mimport\u001b[0m \u001b[0mStringDtype\u001b[0m\u001b[0;34m\u001b[0m\u001b[0;34m\u001b[0m\u001b[0m\n\u001b[1;32m    180\u001b[0m \u001b[0;34m\u001b[0m\u001b[0m\n\u001b[0;32m--> 181\u001b[0;31m         \u001b[0mself\u001b[0m\u001b[0;34m.\u001b[0m\u001b[0m_inferred_dtype\u001b[0m \u001b[0;34m=\u001b[0m \u001b[0mself\u001b[0m\u001b[0;34m.\u001b[0m\u001b[0m_validate\u001b[0m\u001b[0;34m(\u001b[0m\u001b[0mdata\u001b[0m\u001b[0;34m)\u001b[0m\u001b[0;34m\u001b[0m\u001b[0;34m\u001b[0m\u001b[0m\n\u001b[0m\u001b[1;32m    182\u001b[0m         \u001b[0mself\u001b[0m\u001b[0;34m.\u001b[0m\u001b[0m_is_categorical\u001b[0m \u001b[0;34m=\u001b[0m \u001b[0mis_categorical_dtype\u001b[0m\u001b[0;34m(\u001b[0m\u001b[0mdata\u001b[0m\u001b[0;34m.\u001b[0m\u001b[0mdtype\u001b[0m\u001b[0;34m)\u001b[0m\u001b[0;34m\u001b[0m\u001b[0;34m\u001b[0m\u001b[0m\n\u001b[1;32m    183\u001b[0m         \u001b[0mself\u001b[0m\u001b[0;34m.\u001b[0m\u001b[0m_is_string\u001b[0m \u001b[0;34m=\u001b[0m \u001b[0misinstance\u001b[0m\u001b[0;34m(\u001b[0m\u001b[0mdata\u001b[0m\u001b[0;34m.\u001b[0m\u001b[0mdtype\u001b[0m\u001b[0;34m,\u001b[0m \u001b[0mStringDtype\u001b[0m\u001b[0;34m)\u001b[0m\u001b[0;34m\u001b[0m\u001b[0;34m\u001b[0m\u001b[0m\n",
            "\u001b[0;32m/usr/local/lib/python3.10/dist-packages/pandas/core/strings/accessor.py\u001b[0m in \u001b[0;36m_validate\u001b[0;34m(data)\u001b[0m\n\u001b[1;32m    233\u001b[0m \u001b[0;34m\u001b[0m\u001b[0m\n\u001b[1;32m    234\u001b[0m         \u001b[0;32mif\u001b[0m \u001b[0minferred_dtype\u001b[0m \u001b[0;32mnot\u001b[0m \u001b[0;32min\u001b[0m \u001b[0mallowed_types\u001b[0m\u001b[0;34m:\u001b[0m\u001b[0;34m\u001b[0m\u001b[0;34m\u001b[0m\u001b[0m\n\u001b[0;32m--> 235\u001b[0;31m             \u001b[0;32mraise\u001b[0m \u001b[0mAttributeError\u001b[0m\u001b[0;34m(\u001b[0m\u001b[0;34m\"Can only use .str accessor with string values!\"\u001b[0m\u001b[0;34m)\u001b[0m\u001b[0;34m\u001b[0m\u001b[0;34m\u001b[0m\u001b[0m\n\u001b[0m\u001b[1;32m    236\u001b[0m         \u001b[0;32mreturn\u001b[0m \u001b[0minferred_dtype\u001b[0m\u001b[0;34m\u001b[0m\u001b[0;34m\u001b[0m\u001b[0m\n\u001b[1;32m    237\u001b[0m \u001b[0;34m\u001b[0m\u001b[0m\n",
            "\u001b[0;31mAttributeError\u001b[0m: Can only use .str accessor with string values!"
          ]
        }
      ]
    },
    {
      "cell_type": "code",
      "source": [
        "from sklearn.preprocessing import LabelEncoder\n",
        "categorical_variables={}\n",
        "for col in df.columns:\n",
        "  cat_var_name=\"cat\""
      ],
      "metadata": {
        "id": "vIbtrs-PghW-"
      },
      "execution_count": null,
      "outputs": []
    }
  ]
}